{
 "cells": [
  {
   "cell_type": "markdown",
   "metadata": {},
   "source": [
    "# Técnicas Clássicas de Reconhecimento de Padrões (2020/01)\n",
    "## Exercício 06 - Sentiment Analysis\n",
    "\n",
    "**Aluno: Ramon Gomes Durães de Oliveira (2019720188)**"
   ]
  },
  {
   "cell_type": "markdown",
   "metadata": {},
   "source": [
    "O objetivo deste exercício explorar diferentes formas de lidar com o problemas de análise de sentimento em avaliações (reviews) de consumidores utilizando aprendizado de máquina. Para isso, será necessário pré-processar os dados e transformá-los em representações numéricas que permitam a utilização dos classificadores."
   ]
  },
  {
   "cell_type": "markdown",
   "metadata": {},
   "source": [
    "## Bibliotecas"
   ]
  },
  {
   "cell_type": "code",
   "execution_count": 1,
   "metadata": {},
   "outputs": [],
   "source": [
    "import itertools\n",
    "import re\n",
    "import string\n",
    "import numpy as np\n",
    "import pandas as pd\n",
    "import matplotlib.pyplot as plt\n",
    "%matplotlib inline\n",
    "\n",
    "from sklearn.model_selection import train_test_split, cross_val_score\n",
    "from sklearn.linear_model import LogisticRegression\n",
    "from sklearn.feature_extraction.text import TfidfVectorizer, CountVectorizer\n",
    "from sklearn.pipeline import Pipeline\n",
    "from sklearn.metrics import confusion_matrix\n",
    "from sklearn.ensemble import RandomForestClassifier\n",
    "\n",
    "from keras.preprocessing.text import Tokenizer\n",
    "from keras.preprocessing.sequence import pad_sequences\n",
    "from keras.models import Sequential\n",
    "from keras.layers import Dense, Embedding, LSTM, SpatialDropout1D\n",
    "from keras.utils.np_utils import to_categorical"
   ]
  },
  {
   "cell_type": "markdown",
   "metadata": {},
   "source": [
    "Funções utilitárias para explorar o modelo de tokenização TF-IDF:"
   ]
  },
  {
   "cell_type": "code",
   "execution_count": 2,
   "metadata": {},
   "outputs": [],
   "source": [
    "# Decodifica uma review\n",
    "def top_tfidf_feats(row, features, top_n=25):\n",
    "    ''' Get top n tfidf values in row and return them with their corresponding feature names.'''\n",
    "    topn_ids = np.argsort(row)[::-1][:top_n]\n",
    "    top_feats = [(features[i], row[i]) for i in topn_ids]\n",
    "    df = pd.DataFrame(top_feats)\n",
    "    df.columns = ['feature', 'tfidf']\n",
    "    return df\n",
    "\n",
    "# Obtém as palavras com mais peso em uma review\n",
    "def top_feats_in_doc(Xtr, features, row_id, top_n=25):\n",
    "    ''' Top tfidf features in specific document (matrix row) '''\n",
    "    row = np.squeeze(Xtr[row_id].toarray())\n",
    "    return top_tfidf_feats(row, features, top_n)\n",
    "\n",
    "# Retorna as n features (palavras) que, em média, são as mais importantes nas reviews desejadas\n",
    "def top_mean_feats(Xtr, features, grp_ids=None, min_tfidf=0.1, top_n=25):\n",
    "    ''' Return the top n features that on average are most important amongst documents in rows\n",
    "        indentified by indices in grp_ids. '''\n",
    "    if grp_ids:\n",
    "        D = Xtr[grp_ids].toarray()\n",
    "    else:\n",
    "        D = Xtr.toarray()\n",
    "\n",
    "    D[D < min_tfidf] = 0\n",
    "    tfidf_means = np.mean(D, axis=0)\n",
    "    return top_tfidf_feats(tfidf_means, features, top_n)\n",
    "\n",
    "# Retorna uma lista de DataFrames na qual cada DF tem as top N features (palavras) e seu \n",
    "# valor TFIDF médio, calculado em todos os documentos da mesma classe.\n",
    "def top_feats_by_class(Xtr, y, features, min_tfidf=0.1, top_n=25):\n",
    "    ''' Return a list of dfs, where each df holds top_n features and their mean tfidf value\n",
    "        calculated across documents with the same class label. '''\n",
    "    dfs = []\n",
    "    labels = np.unique(y)\n",
    "    for label in labels:\n",
    "        ids = np.where(y==label)\n",
    "        feats_df = top_mean_feats(Xtr, features, ids, min_tfidf=min_tfidf, top_n=top_n)\n",
    "        feats_df.label = label\n",
    "        dfs.append(feats_df)\n",
    "    return dfs\n",
    "\n",
    "# Função utilitária para plotar resulados\n",
    "def plot_tfidf_classfeats_h(dfs):\n",
    "    ''' Plot the data frames returned by the function top_feats_by_class(). '''\n",
    "    fig = plt.figure(figsize=(12, 9), facecolor=\"w\")\n",
    "    x = np.arange(len(dfs[0]))\n",
    "    for i, df in enumerate(dfs):\n",
    "        ax = fig.add_subplot(1, len(dfs), i+1)\n",
    "        ax.spines[\"top\"].set_visible(False)\n",
    "        ax.spines[\"right\"].set_visible(False)\n",
    "        ax.set_frame_on(False)\n",
    "        ax.get_xaxis().tick_bottom()\n",
    "        ax.get_yaxis().tick_left()\n",
    "        ax.set_xlabel(\"Mean Tf-Idf Score\", labelpad=16, fontsize=14)\n",
    "        ax.set_title(\"label = \" + str(df.label), fontsize=16)\n",
    "        ax.ticklabel_format(axis='x', style='sci', scilimits=(-2,2))\n",
    "        ax.barh(x, df.tfidf, align='center', color='#3F5D7D')\n",
    "        ax.set_yticks(x)\n",
    "        ax.set_ylim([-1, x[-1]+1])\n",
    "        yticks = ax.set_yticklabels(df.feature)\n",
    "        plt.subplots_adjust(bottom=0.09, right=0.97, left=0.15, top=0.95, wspace=0.52)\n",
    "    plt.show()"
   ]
  },
  {
   "cell_type": "markdown",
   "metadata": {},
   "source": [
    "## Carregando e pré-processando os dados"
   ]
  },
  {
   "cell_type": "markdown",
   "metadata": {},
   "source": [
    "Os dados que serão utilizados abaixo são provenientes da competição do Kaggle intitulada \"Brazilian E-Commerce Public Dataset by Olist\", disponível em https://www.kaggle.com/olistbr/brazilian-ecommerce. \n",
    "\n",
    "Os dados são avaliações de produtos na loja Olist feitas por consumidores brasileiros. Os dados serão carregados para visualização abaixo:"
   ]
  },
  {
   "cell_type": "code",
   "execution_count": 3,
   "metadata": {},
   "outputs": [
    {
     "name": "stdout",
     "output_type": "stream",
     "text": [
      "(100000, 7)\n"
     ]
    },
    {
     "data": {
      "text/html": [
       "<div>\n",
       "<style scoped>\n",
       "    .dataframe tbody tr th:only-of-type {\n",
       "        vertical-align: middle;\n",
       "    }\n",
       "\n",
       "    .dataframe tbody tr th {\n",
       "        vertical-align: top;\n",
       "    }\n",
       "\n",
       "    .dataframe thead th {\n",
       "        text-align: right;\n",
       "    }\n",
       "</style>\n",
       "<table border=\"1\" class=\"dataframe\">\n",
       "  <thead>\n",
       "    <tr style=\"text-align: right;\">\n",
       "      <th></th>\n",
       "      <th>review_id</th>\n",
       "      <th>order_id</th>\n",
       "      <th>review_score</th>\n",
       "      <th>review_comment_title</th>\n",
       "      <th>review_comment_message</th>\n",
       "      <th>review_creation_date</th>\n",
       "      <th>review_answer_timestamp</th>\n",
       "    </tr>\n",
       "  </thead>\n",
       "  <tbody>\n",
       "    <tr>\n",
       "      <th>0</th>\n",
       "      <td>7bc2406110b926393aa56f80a40eba40</td>\n",
       "      <td>73fc7af87114b39712e6da79b0a377eb</td>\n",
       "      <td>4</td>\n",
       "      <td>NaN</td>\n",
       "      <td>NaN</td>\n",
       "      <td>2018-01-18 00:00:00</td>\n",
       "      <td>2018-01-18 21:46:59</td>\n",
       "    </tr>\n",
       "    <tr>\n",
       "      <th>1</th>\n",
       "      <td>80e641a11e56f04c1ad469d5645fdfde</td>\n",
       "      <td>a548910a1c6147796b98fdf73dbeba33</td>\n",
       "      <td>5</td>\n",
       "      <td>NaN</td>\n",
       "      <td>NaN</td>\n",
       "      <td>2018-03-10 00:00:00</td>\n",
       "      <td>2018-03-11 03:05:13</td>\n",
       "    </tr>\n",
       "    <tr>\n",
       "      <th>2</th>\n",
       "      <td>228ce5500dc1d8e020d8d1322874b6f0</td>\n",
       "      <td>f9e4b658b201a9f2ecdecbb34bed034b</td>\n",
       "      <td>5</td>\n",
       "      <td>NaN</td>\n",
       "      <td>NaN</td>\n",
       "      <td>2018-02-17 00:00:00</td>\n",
       "      <td>2018-02-18 14:36:24</td>\n",
       "    </tr>\n",
       "    <tr>\n",
       "      <th>3</th>\n",
       "      <td>e64fb393e7b32834bb789ff8bb30750e</td>\n",
       "      <td>658677c97b385a9be170737859d3511b</td>\n",
       "      <td>5</td>\n",
       "      <td>NaN</td>\n",
       "      <td>Recebi bem antes do prazo estipulado.</td>\n",
       "      <td>2017-04-21 00:00:00</td>\n",
       "      <td>2017-04-21 22:02:06</td>\n",
       "    </tr>\n",
       "    <tr>\n",
       "      <th>4</th>\n",
       "      <td>f7c4243c7fe1938f181bec41a392bdeb</td>\n",
       "      <td>8e6bfb81e283fa7e4f11123a3fb894f1</td>\n",
       "      <td>5</td>\n",
       "      <td>NaN</td>\n",
       "      <td>Parabéns lojas lannister adorei comprar pela I...</td>\n",
       "      <td>2018-03-01 00:00:00</td>\n",
       "      <td>2018-03-02 10:26:53</td>\n",
       "    </tr>\n",
       "  </tbody>\n",
       "</table>\n",
       "</div>"
      ],
      "text/plain": [
       "                          review_id                          order_id  \\\n",
       "0  7bc2406110b926393aa56f80a40eba40  73fc7af87114b39712e6da79b0a377eb   \n",
       "1  80e641a11e56f04c1ad469d5645fdfde  a548910a1c6147796b98fdf73dbeba33   \n",
       "2  228ce5500dc1d8e020d8d1322874b6f0  f9e4b658b201a9f2ecdecbb34bed034b   \n",
       "3  e64fb393e7b32834bb789ff8bb30750e  658677c97b385a9be170737859d3511b   \n",
       "4  f7c4243c7fe1938f181bec41a392bdeb  8e6bfb81e283fa7e4f11123a3fb894f1   \n",
       "\n",
       "   review_score review_comment_title  \\\n",
       "0             4                  NaN   \n",
       "1             5                  NaN   \n",
       "2             5                  NaN   \n",
       "3             5                  NaN   \n",
       "4             5                  NaN   \n",
       "\n",
       "                              review_comment_message review_creation_date  \\\n",
       "0                                                NaN  2018-01-18 00:00:00   \n",
       "1                                                NaN  2018-03-10 00:00:00   \n",
       "2                                                NaN  2018-02-17 00:00:00   \n",
       "3              Recebi bem antes do prazo estipulado.  2017-04-21 00:00:00   \n",
       "4  Parabéns lojas lannister adorei comprar pela I...  2018-03-01 00:00:00   \n",
       "\n",
       "  review_answer_timestamp  \n",
       "0     2018-01-18 21:46:59  \n",
       "1     2018-03-11 03:05:13  \n",
       "2     2018-02-18 14:36:24  \n",
       "3     2017-04-21 22:02:06  \n",
       "4     2018-03-02 10:26:53  "
      ]
     },
     "execution_count": 3,
     "metadata": {},
     "output_type": "execute_result"
    }
   ],
   "source": [
    "data = pd.read_csv('./data/olist_order_reviews_dataset.csv')\n",
    "print(data.shape)\n",
    "data.head()"
   ]
  },
  {
   "cell_type": "markdown",
   "metadata": {},
   "source": [
    "Nota-se que as colunas mais relevantes para a análise são `review_score`, onde está a nota da avaliação de 1 a 5 estrelas, e `review_comment_message`, onde está o texto da avaliação em si. \n",
    "\n",
    "Como estamos interessados em classificar novas avaliações, serão removidas as avaliações sem texto (NaN):"
   ]
  },
  {
   "cell_type": "code",
   "execution_count": 4,
   "metadata": {},
   "outputs": [
    {
     "name": "stdout",
     "output_type": "stream",
     "text": [
      "(41753, 7)\n"
     ]
    }
   ],
   "source": [
    "data.dropna(axis='rows', subset=['review_comment_message'], inplace=True)\n",
    "print(data.shape)"
   ]
  },
  {
   "cell_type": "markdown",
   "metadata": {},
   "source": [
    "Nota-se que a base de dados passa de 100.000 para 41753 observações. Agora serão checados valores faltantes na segunda coluna de interesse: `review_score`: "
   ]
  },
  {
   "cell_type": "code",
   "execution_count": 5,
   "metadata": {},
   "outputs": [
    {
     "data": {
      "text/plain": [
       "0"
      ]
     },
     "execution_count": 5,
     "metadata": {},
     "output_type": "execute_result"
    }
   ],
   "source": [
    "sum(data['review_score'].isna())"
   ]
  },
  {
   "cell_type": "markdown",
   "metadata": {},
   "source": [
    "Não há valores faltantes na coluna `review_score`. "
   ]
  },
  {
   "cell_type": "code",
   "execution_count": 6,
   "metadata": {},
   "outputs": [
    {
     "data": {
      "text/plain": [
       "3     5\n",
       "4     5\n",
       "9     4\n",
       "12    4\n",
       "15    5\n",
       "Name: review_score, dtype: int64"
      ]
     },
     "execution_count": 6,
     "metadata": {},
     "output_type": "execute_result"
    }
   ],
   "source": [
    "data['review_score'].head()"
   ]
  },
  {
   "cell_type": "markdown",
   "metadata": {},
   "source": [
    "Visualizando a distribuição de notas "
   ]
  },
  {
   "cell_type": "code",
   "execution_count": 7,
   "metadata": {},
   "outputs": [
    {
     "data": {
      "text/plain": [
       "<matplotlib.axes._subplots.AxesSubplot at 0x265118a2348>"
      ]
     },
     "execution_count": 7,
     "metadata": {},
     "output_type": "execute_result"
    },
    {
     "data": {
      "image/png": "[encoded data removed]",
      "text/plain": [
       "<Figure size 432x288 with 1 Axes>"
      ]
     },
     "metadata": {
      "needs_background": "light"
     },
     "output_type": "display_data"
    }
   ],
   "source": [
    "data['review_score'].value_counts(sort=False).plot(kind='bar')"
   ]
  },
  {
   "cell_type": "markdown",
   "metadata": {},
   "source": [
    "Para este trabalho, estamos interessados apenas em distinguir avaliações positivas de negativas, por isso elas serão agregadas de forma que as notas de 1 a 3 sejam consideradas negativas (-1) e as notas 4 e 5 positivas (1)."
   ]
  },
  {
   "cell_type": "code",
   "execution_count": 8,
   "metadata": {},
   "outputs": [
    {
     "data": {
      "text/html": [
       "<div>\n",
       "<style scoped>\n",
       "    .dataframe tbody tr th:only-of-type {\n",
       "        vertical-align: middle;\n",
       "    }\n",
       "\n",
       "    .dataframe tbody tr th {\n",
       "        vertical-align: top;\n",
       "    }\n",
       "\n",
       "    .dataframe thead th {\n",
       "        text-align: right;\n",
       "    }\n",
       "</style>\n",
       "<table border=\"1\" class=\"dataframe\">\n",
       "  <thead>\n",
       "    <tr style=\"text-align: right;\">\n",
       "      <th></th>\n",
       "      <th>review_comment_message</th>\n",
       "      <th>review_score</th>\n",
       "      <th>grouped_review</th>\n",
       "    </tr>\n",
       "  </thead>\n",
       "  <tbody>\n",
       "    <tr>\n",
       "      <th>3</th>\n",
       "      <td>Recebi bem antes do prazo estipulado.</td>\n",
       "      <td>5</td>\n",
       "      <td>1</td>\n",
       "    </tr>\n",
       "    <tr>\n",
       "      <th>4</th>\n",
       "      <td>Parabéns lojas lannister adorei comprar pela I...</td>\n",
       "      <td>5</td>\n",
       "      <td>1</td>\n",
       "    </tr>\n",
       "    <tr>\n",
       "      <th>9</th>\n",
       "      <td>aparelho eficiente. no site a marca do aparelh...</td>\n",
       "      <td>4</td>\n",
       "      <td>1</td>\n",
       "    </tr>\n",
       "    <tr>\n",
       "      <th>12</th>\n",
       "      <td>Mas um pouco ,travando...pelo valor ta Boa.\\r\\n</td>\n",
       "      <td>4</td>\n",
       "      <td>1</td>\n",
       "    </tr>\n",
       "    <tr>\n",
       "      <th>15</th>\n",
       "      <td>Vendedor confiável, produto ok e entrega antes...</td>\n",
       "      <td>5</td>\n",
       "      <td>1</td>\n",
       "    </tr>\n",
       "    <tr>\n",
       "      <th>16</th>\n",
       "      <td>GOSTARIA DE SABER O QUE HOUVE, SEMPRE RECEBI E...</td>\n",
       "      <td>2</td>\n",
       "      <td>-1</td>\n",
       "    </tr>\n",
       "    <tr>\n",
       "      <th>19</th>\n",
       "      <td>Péssimo</td>\n",
       "      <td>1</td>\n",
       "      <td>-1</td>\n",
       "    </tr>\n",
       "    <tr>\n",
       "      <th>22</th>\n",
       "      <td>Loja nota 10</td>\n",
       "      <td>5</td>\n",
       "      <td>1</td>\n",
       "    </tr>\n",
       "    <tr>\n",
       "      <th>24</th>\n",
       "      <td>obrigado pela atençao amim dispensada</td>\n",
       "      <td>5</td>\n",
       "      <td>1</td>\n",
       "    </tr>\n",
       "    <tr>\n",
       "      <th>27</th>\n",
       "      <td>A compra foi realizada facilmente.\\r\\nA entreg...</td>\n",
       "      <td>5</td>\n",
       "      <td>1</td>\n",
       "    </tr>\n",
       "    <tr>\n",
       "      <th>28</th>\n",
       "      <td>relógio muito bonito e barato.</td>\n",
       "      <td>5</td>\n",
       "      <td>1</td>\n",
       "    </tr>\n",
       "    <tr>\n",
       "      <th>29</th>\n",
       "      <td>Não gostei ! Comprei gato por lebre</td>\n",
       "      <td>1</td>\n",
       "      <td>-1</td>\n",
       "    </tr>\n",
       "    <tr>\n",
       "      <th>32</th>\n",
       "      <td>Sempre compro pela Internet e a entrega ocorre...</td>\n",
       "      <td>1</td>\n",
       "      <td>-1</td>\n",
       "    </tr>\n",
       "    <tr>\n",
       "      <th>34</th>\n",
       "      <td>Recebi exatamente o que esperava. As demais en...</td>\n",
       "      <td>4</td>\n",
       "      <td>1</td>\n",
       "    </tr>\n",
       "    <tr>\n",
       "      <th>36</th>\n",
       "      <td>Recomendo ,</td>\n",
       "      <td>5</td>\n",
       "      <td>1</td>\n",
       "    </tr>\n",
       "  </tbody>\n",
       "</table>\n",
       "</div>"
      ],
      "text/plain": [
       "                               review_comment_message  review_score  \\\n",
       "3               Recebi bem antes do prazo estipulado.             5   \n",
       "4   Parabéns lojas lannister adorei comprar pela I...             5   \n",
       "9   aparelho eficiente. no site a marca do aparelh...             4   \n",
       "12    Mas um pouco ,travando...pelo valor ta Boa.\\r\\n             4   \n",
       "15  Vendedor confiável, produto ok e entrega antes...             5   \n",
       "16  GOSTARIA DE SABER O QUE HOUVE, SEMPRE RECEBI E...             2   \n",
       "19                                            Péssimo             1   \n",
       "22                                       Loja nota 10             5   \n",
       "24              obrigado pela atençao amim dispensada             5   \n",
       "27  A compra foi realizada facilmente.\\r\\nA entreg...             5   \n",
       "28                     relógio muito bonito e barato.             5   \n",
       "29                Não gostei ! Comprei gato por lebre             1   \n",
       "32  Sempre compro pela Internet e a entrega ocorre...             1   \n",
       "34  Recebi exatamente o que esperava. As demais en...             4   \n",
       "36                                        Recomendo ,             5   \n",
       "\n",
       "    grouped_review  \n",
       "3                1  \n",
       "4                1  \n",
       "9                1  \n",
       "12               1  \n",
       "15               1  \n",
       "16              -1  \n",
       "19              -1  \n",
       "22               1  \n",
       "24               1  \n",
       "27               1  \n",
       "28               1  \n",
       "29              -1  \n",
       "32              -1  \n",
       "34               1  \n",
       "36               1  "
      ]
     },
     "execution_count": 8,
     "metadata": {},
     "output_type": "execute_result"
    }
   ],
   "source": [
    "data['grouped_review'] = data['review_score'].where(data['review_score']>3, -1)\n",
    "data['grouped_review'] = data['grouped_review'].where(data['grouped_review']<=3, 1)\n",
    "data[['review_comment_message', 'review_score', 'grouped_review']].head(15)"
   ]
  },
  {
   "cell_type": "markdown",
   "metadata": {},
   "source": [
    "### Limpeza do texto"
   ]
  },
  {
   "cell_type": "markdown",
   "metadata": {},
   "source": [
    "Dados textuais crus contém uma série de caracteres indesejáveis, além de letras maiúsculas e minúsculas que deveriam ser tratadas como a mesma palavra. A função abaixo removerá:\n",
    "- pontuação\n",
    "- letras maiúsculas\n",
    "- colchetes\n",
    "- padrões especiais como \\r e \\n\n",
    "- aspas"
   ]
  },
  {
   "cell_type": "code",
   "execution_count": 9,
   "metadata": {},
   "outputs": [],
   "source": [
    "def text_clean(text):\n",
    "    text = text.lower()\n",
    "    text = re.sub('\\[.*?\\]', '', text)\n",
    "    text = re.sub('[%s]' % re.escape(string.punctuation), '', text)\n",
    "    text = re.sub('\\w*\\d\\w*', '', text)\n",
    "    text = re.sub('\\r\\n|\\r|\\n', '', text)\n",
    "    text = re.sub('[‘’“”…]', '', text)\n",
    "    return text\n",
    "\n",
    "clean = lambda x: text_clean(x)"
   ]
  },
  {
   "cell_type": "markdown",
   "metadata": {},
   "source": [
    "Exibindo algumas avaliações pós-processamento:"
   ]
  },
  {
   "cell_type": "code",
   "execution_count": 10,
   "metadata": {},
   "outputs": [
    {
     "data": {
      "text/plain": [
       "3                  recebi bem antes do prazo estipulado\n",
       "4     parabéns lojas lannister adorei comprar pela i...\n",
       "9     aparelho eficiente no site a marca do aparelho...\n",
       "12               mas um pouco travandopelo valor ta boa\n",
       "15    vendedor confiável produto ok e entrega antes ...\n",
       "16    gostaria de saber o que houve sempre recebi e ...\n",
       "19                                              péssimo\n",
       "22                                           loja nota \n",
       "24                obrigado pela atençao amim dispensada\n",
       "27    a compra foi realizada facilmentea entrega foi...\n",
       "Name: clean_review_message, dtype: object"
      ]
     },
     "execution_count": 10,
     "metadata": {},
     "output_type": "execute_result"
    }
   ],
   "source": [
    "data['clean_review_message'] = pd.DataFrame(data.review_comment_message.apply(clean))\n",
    "data['clean_review_message'].head(10)"
   ]
  },
  {
   "cell_type": "markdown",
   "metadata": {},
   "source": [
    "### Separando conjuntos de treinamento e teste"
   ]
  },
  {
   "cell_type": "markdown",
   "metadata": {},
   "source": [
    "Serão utilizados 20% dos dados fornecidos como dados de teste."
   ]
  },
  {
   "cell_type": "code",
   "execution_count": 11,
   "metadata": {},
   "outputs": [
    {
     "name": "stdout",
     "output_type": "stream",
     "text": [
      "Tamanho do conjunto de treinamento: 33402\n",
      "Tamanho do conjunto de teste: 8351\n"
     ]
    }
   ],
   "source": [
    "from sklearn.model_selection import train_test_split\n",
    "\n",
    "X = data['clean_review_message']\n",
    "Y = data['grouped_review']\n",
    "\n",
    "Xtrain, Xtest, Ytrain, Ytest = train_test_split(X, Y, test_size = 0.2, random_state=1)\n",
    "\n",
    "print(\"Tamanho do conjunto de treinamento: {}\\nTamanho do conjunto de teste: {}\".format(len(Ytrain), len(Ytest)))"
   ]
  },
  {
   "cell_type": "markdown",
   "metadata": {},
   "source": [
    "## Modelo 1: TF-IDF + Regressão Logística"
   ]
  },
  {
   "cell_type": "markdown",
   "metadata": {},
   "source": [
    "### Tokenização: TF-IDF:\n",
    "\n",
    "Para este modelo, a forma escolhida de representação do texto foi a transformação (vetorização) pelo método TF-IDF (Term Frequency - Inverse Document Frequency). \n",
    "\n",
    "O objetivo deste método é aumentar o peso dado a uma palavra (feature) quanto maior o número de ocorrências dela em uma review, mas atenuar este peso de acordo com o número total de ocorrências dela em todo o conjutno de dados. Com isso, é possível remover a importância dada a palavras extremamente comuns como artigos (\"o\", \"a\") e outras palavras muito comuns que não ajudariam a discernir uma review positiva de uma review negativa (\"é\", \"eu\", ...).\n",
    "\n",
    "Olhando mais a fundo para o significado de cada termo:\n",
    "- TF (Term Frequency): frequência de uma palavra na review em questão. Sendo $t$ uma palavra e $d$ uma review, a função  é definida por: \n",
    "\n",
    "$tf(t,d)=\\frac{n_{t,d}}{\\sum_k n_{t,d}}$\n",
    "\n",
    "- IDF (Inverse Document Frequency): número total de reviews dividido pelo número de reviews que contém o termo em questão. Sendo $N$ o número total de reviews e $D$ o conjunto contendo todas as reviews do banco de dados:\n",
    "\n",
    "$idf(t,D)=log(\\frac{N}{|\\{d \\in D \\mid t \\in d\\}|})$\n",
    "\n",
    "- TF-IDF (Inverse Document Frequency): a combinação dessas funções: \n",
    "\n",
    "$tfidf(t,D)=tf(t,D) * idf(t, D)$\n",
    "\n",
    "Ajustando este modelo aos dados e exibindo parte do dicionário gerado:"
   ]
  },
  {
   "cell_type": "code",
   "execution_count": 58,
   "metadata": {},
   "outputs": [
    {
     "data": {
      "text/plain": [
       "{'produto': 13119,\n",
       " 'não': 11127,\n",
       " 'foi': 7647,\n",
       " 'entregue': 6228,\n",
       " 'gostaria': 8177,\n",
       " 'de': 4456,\n",
       " 'saber': 14909,\n",
       " 'nova': 11066,\n",
       " 'previsão': 12978,\n",
       " 'entrega': 6129}"
      ]
     },
     "execution_count": 58,
     "metadata": {},
     "output_type": "execute_result"
    }
   ],
   "source": [
    "vectorizer = TfidfVectorizer()\n",
    "classifier = LogisticRegression(solver = \"liblinear\")\n",
    "model = Pipeline([('vectorizer',vectorizer),('classifier',classifier)])\n",
    "model.fit(Xtrain, Ytrain);\n",
    "tfidf = model.steps[0][1]\n",
    "dict(itertools.islice(tfidf.vocabulary_.items(), 10))"
   ]
  },
  {
   "cell_type": "markdown",
   "metadata": {},
   "source": [
    "Para visualizar um exemplo do resultado da tokenização, será utilizada a frase:"
   ]
  },
  {
   "cell_type": "code",
   "execution_count": 59,
   "metadata": {},
   "outputs": [
    {
     "name": "stdout",
     "output_type": "stream",
     "text": [
      "o produto não foi entregue gostaria de saber a nova previsão de entrega o processo de entrega está na situação de nota fiscal emitida desde  sem ter nunca ido para transportadora\n"
     ]
    }
   ],
   "source": [
    "print(Xtrain.iloc[0])"
   ]
  },
  {
   "cell_type": "markdown",
   "metadata": {},
   "source": [
    "Após a tokenização, este é o peso dado às 10 palavras mais relevantes desta frase:"
   ]
  },
  {
   "cell_type": "code",
   "execution_count": 60,
   "metadata": {},
   "outputs": [
    {
     "data": {
      "text/html": [
       "<div>\n",
       "<style scoped>\n",
       "    .dataframe tbody tr th:only-of-type {\n",
       "        vertical-align: middle;\n",
       "    }\n",
       "\n",
       "    .dataframe tbody tr th {\n",
       "        vertical-align: top;\n",
       "    }\n",
       "\n",
       "    .dataframe thead th {\n",
       "        text-align: right;\n",
       "    }\n",
       "</style>\n",
       "<table border=\"1\" class=\"dataframe\">\n",
       "  <thead>\n",
       "    <tr style=\"text-align: right;\">\n",
       "      <th></th>\n",
       "      <th>feature</th>\n",
       "      <th>tfidf</th>\n",
       "    </tr>\n",
       "  </thead>\n",
       "  <tbody>\n",
       "    <tr>\n",
       "      <th>0</th>\n",
       "      <td>de</td>\n",
       "      <td>0.336112</td>\n",
       "    </tr>\n",
       "    <tr>\n",
       "      <th>1</th>\n",
       "      <td>ido</td>\n",
       "      <td>0.324013</td>\n",
       "    </tr>\n",
       "    <tr>\n",
       "      <th>2</th>\n",
       "      <td>nova</td>\n",
       "      <td>0.269831</td>\n",
       "    </tr>\n",
       "    <tr>\n",
       "      <th>3</th>\n",
       "      <td>emitida</td>\n",
       "      <td>0.260999</td>\n",
       "    </tr>\n",
       "    <tr>\n",
       "      <th>4</th>\n",
       "      <td>situação</td>\n",
       "      <td>0.255441</td>\n",
       "    </tr>\n",
       "    <tr>\n",
       "      <th>5</th>\n",
       "      <td>transportadora</td>\n",
       "      <td>0.237235</td>\n",
       "    </tr>\n",
       "    <tr>\n",
       "      <th>6</th>\n",
       "      <td>processo</td>\n",
       "      <td>0.236812</td>\n",
       "    </tr>\n",
       "    <tr>\n",
       "      <th>7</th>\n",
       "      <td>previsão</td>\n",
       "      <td>0.227022</td>\n",
       "    </tr>\n",
       "    <tr>\n",
       "      <th>8</th>\n",
       "      <td>desde</td>\n",
       "      <td>0.226091</td>\n",
       "    </tr>\n",
       "    <tr>\n",
       "      <th>9</th>\n",
       "      <td>entrega</td>\n",
       "      <td>0.194867</td>\n",
       "    </tr>\n",
       "  </tbody>\n",
       "</table>\n",
       "</div>"
      ],
      "text/plain": [
       "          feature     tfidf\n",
       "0              de  0.336112\n",
       "1             ido  0.324013\n",
       "2            nova  0.269831\n",
       "3         emitida  0.260999\n",
       "4        situação  0.255441\n",
       "5  transportadora  0.237235\n",
       "6        processo  0.236812\n",
       "7        previsão  0.227022\n",
       "8           desde  0.226091\n",
       "9         entrega  0.194867"
      ]
     },
     "execution_count": 60,
     "metadata": {},
     "output_type": "execute_result"
    }
   ],
   "source": [
    "transformed_Xtrain = tfidf.transform(Xtrain)\n",
    "all_features = tfidf.get_feature_names() \n",
    "row1 = np.squeeze(transformed_Xtrain[0].toarray())\n",
    "top_tfidf_feats(row = row1, features=all_features, top_n=10)"
   ]
  },
  {
   "cell_type": "markdown",
   "metadata": {},
   "source": [
    "Exibindo as palavras mais relevantes por classe (lembrando que -1 representa avaliações negativas e 1 representa avaliações positivas)."
   ]
  },
  {
   "cell_type": "code",
   "execution_count": 61,
   "metadata": {},
   "outputs": [
    {
     "data": {
      "image/png": "[encoded data removed]",
      "text/plain": [
       "<Figure size 864x648 with 2 Axes>"
      ]
     },
     "metadata": {},
     "output_type": "display_data"
    }
   ],
   "source": [
    "dfs = top_feats_by_class(transformed_Xtrain, Ytrain, tfidf.get_feature_names())\n",
    "plot_tfidf_classfeats_h(dfs)"
   ]
  },
  {
   "cell_type": "markdown",
   "metadata": {},
   "source": [
    "### Predição do Modelo: Regressão Logística\n",
    "\n",
    "Para classificar os dados, novamente será utilizado um simples modelo de regressão logística. Abaixo é mostrada a matriz de confusão obtida:"
   ]
  },
  {
   "cell_type": "code",
   "execution_count": 62,
   "metadata": {},
   "outputs": [
    {
     "data": {
      "text/plain": [
       "array([[2552,  447],\n",
       "       [ 463, 4889]], dtype=int64)"
      ]
     },
     "execution_count": 62,
     "metadata": {},
     "output_type": "execute_result"
    }
   ],
   "source": [
    "predictions = model.predict(Xtest)\n",
    "confusion_matrix(predictions, Ytest)"
   ]
  },
  {
   "cell_type": "code",
   "execution_count": 63,
   "metadata": {},
   "outputs": [
    {
     "name": "stdout",
     "output_type": "stream",
     "text": [
      "Acurácia obtida por validações cruzada com 5 partições: 89.26%\n"
     ]
    }
   ],
   "source": [
    "scores = cross_val_score(model, Xtrain, Ytrain, cv=5)\n",
    "cv_accuracy = 100 * np.mean(scores)\n",
    "print(\"Acurácia obtida por validações cruzada com 5 partições: {}%\".format(round(cv_accuracy, 2)))"
   ]
  },
  {
   "cell_type": "markdown",
   "metadata": {},
   "source": [
    "Testando com novas frases:"
   ]
  },
  {
   "cell_type": "code",
   "execution_count": 18,
   "metadata": {},
   "outputs": [
    {
     "data": {
      "text/plain": [
       "array([1], dtype=int64)"
      ]
     },
     "execution_count": 18,
     "metadata": {},
     "output_type": "execute_result"
    }
   ],
   "source": [
    "model.predict(['estou feliz com a compra'])"
   ]
  },
  {
   "cell_type": "code",
   "execution_count": 19,
   "metadata": {},
   "outputs": [
    {
     "data": {
      "text/plain": [
       "array([-1], dtype=int64)"
      ]
     },
     "execution_count": 19,
     "metadata": {},
     "output_type": "execute_result"
    }
   ],
   "source": [
    "model.predict(['fiquei chateado'])"
   ]
  },
  {
   "cell_type": "code",
   "execution_count": 20,
   "metadata": {},
   "outputs": [
    {
     "data": {
      "text/plain": [
       "array([-1], dtype=int64)"
      ]
     },
     "execution_count": 20,
     "metadata": {},
     "output_type": "execute_result"
    }
   ],
   "source": [
    "model.predict(['estou triste com a compra'])"
   ]
  },
  {
   "cell_type": "code",
   "execution_count": 21,
   "metadata": {},
   "outputs": [
    {
     "data": {
      "text/plain": [
       "array([1], dtype=int64)"
      ]
     },
     "execution_count": 21,
     "metadata": {},
     "output_type": "execute_result"
    }
   ],
   "source": [
    "model.predict(['me agradou muito'])"
   ]
  },
  {
   "cell_type": "code",
   "execution_count": 22,
   "metadata": {},
   "outputs": [
    {
     "data": {
      "text/plain": [
       "array([-1], dtype=int64)"
      ]
     },
     "execution_count": 22,
     "metadata": {},
     "output_type": "execute_result"
    }
   ],
   "source": [
    "model.predict(['demorou a chegar'])"
   ]
  },
  {
   "cell_type": "markdown",
   "metadata": {},
   "source": [
    "A pipeline de processamento de dados, juntamente ao modelo de tokenização TF-IDF e à classificação por regressão logística simples se mostraram eficientes na solução do problema, obtendo 89% de acurácia. Como esperado, o modelo classifica melhor as avaliações positivas devido ao desbalanceamento das classes. \n",
    "\n",
    "O modelo foi capaz de classificar corretamente as frases de teste fornecidas."
   ]
  },
  {
   "cell_type": "markdown",
   "metadata": {},
   "source": [
    "## Modelo 2: Bag of Words + Regressão Logística\n",
    "\n",
    "Para avaliar se a tokenização pelo método TF-IDF gerou resultados melhores que o Bag of Words, um modelo similar será treinado para esta forma de tokenização."
   ]
  },
  {
   "cell_type": "code",
   "execution_count": 23,
   "metadata": {},
   "outputs": [
    {
     "data": {
      "text/plain": [
       "array([[2462,  388],\n",
       "       [ 553, 4948]], dtype=int64)"
      ]
     },
     "execution_count": 23,
     "metadata": {},
     "output_type": "execute_result"
    }
   ],
   "source": [
    "vectorizer2 = CountVectorizer()\n",
    "classifier2 = LogisticRegression(solver = \"liblinear\")\n",
    "model2 = Pipeline([('vectorizer',vectorizer2),('classifier',classifier2)])\n",
    "model2.fit(Xtrain, Ytrain)\n",
    "predictions2 = model2.predict(Xtest)\n",
    "confusion_matrix(predictions2, Ytest)"
   ]
  },
  {
   "cell_type": "code",
   "execution_count": 24,
   "metadata": {},
   "outputs": [
    {
     "name": "stdout",
     "output_type": "stream",
     "text": [
      "Acurácia obtida por validações cruzada com 5 partições: 89.03%\n"
     ]
    }
   ],
   "source": [
    "scores2 = cross_val_score(model2, Xtrain, Ytrain, cv=5)\n",
    "cv_accuracy2 = 100 * np.mean(scores2)\n",
    "print(\"Acurácia obtida por validações cruzada com 5 partições: {}%\".format(round(cv_accuracy2, 2)))"
   ]
  },
  {
   "cell_type": "markdown",
   "metadata": {},
   "source": [
    "A média da acurácia do modelo utilizando TF-IDF através da validação cruzada é de 89.26%, enquanto a média do modelo que utiliza Bag of Words é de 89.03%. A diferença é muito pequena em favor do método TF-IDF."
   ]
  },
  {
   "cell_type": "markdown",
   "metadata": {},
   "source": [
    "## Modelo 3: Tokenização simples + LSTM\n",
    "\n",
    "Uma outra forma de realizar a mesma tarefa acima é através de redes profundas. Como a tarefa de compreensão semântica de textos depende da sequência (da ordem) em que as palavras aparecem, as redes recorrentes são bastante adequadas. Ao contrário das redes \"feed-forward\", elas também contém cadamadas recorrentes, com pesos que conectam uma camada a si mesma.\n",
    "\n",
    "As LSTMs (Long-Short Term Memory) são um tipo de rede recorrente que lidam com o problema do \"vanishing/exploding gradient\" (desaparecimento/explosão do gradiente) que impedem que redes recorrentes simples aprendam relações entre palavras muito distantes entre si. \n",
    "\n",
    "A implementação da tokenização e das redes LSTM a ser utilizada é a da biblioteca Keras (utilizando o TensorFlow como backend).\n",
    "\n",
    "### Tokenização:\n",
    "\n",
    "Bem como para os modelos anteriores, é preciso representar o texto de forma numérica através da tokenização. Neste caso, vamos limitar o vocabulário para um máximo de 2000 palavras: as 2000 palavras mais frequentes.\n",
    "\n",
    "Tendo cada palavra representada por um número diferente, cada avaliação do conjunto de dados será transformada em uma sequência de números na ordem em que as respectivas palavras aparecem.\n",
    "\n",
    "Como as redes têm um tamanho de entrada fixo, é preciso fazer com que as frases tenham tamanhos fixos. Isso pode ser feito preenchendo as sequências mais curtas e/ou truncando as mais longas. Neste caso, todas as frases menores que a frase mais longa dos dados serão preenchidas com zeros."
   ]
  },
  {
   "cell_type": "code",
   "execution_count": 39,
   "metadata": {},
   "outputs": [],
   "source": [
    "# limitando o tamanho do vocabulário\n",
    "max_features = 2000\n",
    "# codificando as palavras\n",
    "tokenizer = Tokenizer(num_words=max_features, split=' ')\n",
    "# ajustando aos dados e transformando-os em sequências de tokens\n",
    "tokenizer.fit_on_texts(data['clean_review_message'].values)\n",
    "X = tokenizer.texts_to_sequences(data['clean_review_message'].values)\n",
    "# preenchimento das sequências para equalizar o tamanho da entrada\n",
    "X = pad_sequences(X)"
   ]
  },
  {
   "cell_type": "markdown",
   "metadata": {},
   "source": [
    "### LSTM\n",
    "\n",
    "Abaixo será construída a arquitetura da rede a ser utilizada, com as camadas:\n",
    "- Embedding (43, 128): codifica as frases tokenizadas em vetores de tamanho 128; \n",
    "- Dropout (43, 128): uma camada de regularização;\n",
    "- LSTM (128, 196): a camada recorrente principal;\n",
    "- Dense (196, 2): a camada de saída com dois neurônios (um para cada classe).\n",
    "\n",
    "Como este modelo demora bastante a ser treinado, não utilizarei validação cruzada como nos modelos anteriores. Ao invés disso, adicionarei uma técnica de regularização chamada \"dropout\". Em resumo, ela adiciona uma probabilidade de zerar as ativações da rede, impedindo o sobreajuste. "
   ]
  },
  {
   "cell_type": "code",
   "execution_count": 40,
   "metadata": {},
   "outputs": [],
   "source": [
    "embed_dim = 128\n",
    "lstm_out = 196\n",
    "\n",
    "model = Sequential()\n",
    "model.add(Embedding(max_features, embed_dim,input_length = X.shape[1]))\n",
    "model.add(SpatialDropout1D(0.4))\n",
    "model.add(LSTM(lstm_out, dropout=0.2, recurrent_dropout=0.2))\n",
    "model.add(Dense(2,activation='softmax'))"
   ]
  },
  {
   "cell_type": "code",
   "execution_count": 41,
   "metadata": {},
   "outputs": [
    {
     "name": "stdout",
     "output_type": "stream",
     "text": [
      "Model: \"sequential_1\"\n",
      "_________________________________________________________________\n",
      "Layer (type)                 Output Shape              Param #   \n",
      "=================================================================\n",
      "embedding_1 (Embedding)      (None, 43, 128)           256000    \n",
      "_________________________________________________________________\n",
      "spatial_dropout1d_1 (Spatial (None, 43, 128)           0         \n",
      "_________________________________________________________________\n",
      "lstm_1 (LSTM)                (None, 196)               254800    \n",
      "_________________________________________________________________\n",
      "dense_1 (Dense)              (None, 2)                 394       \n",
      "=================================================================\n",
      "Total params: 511,194\n",
      "Trainable params: 511,194\n",
      "Non-trainable params: 0\n",
      "_________________________________________________________________\n",
      "None\n"
     ]
    }
   ],
   "source": [
    "model.compile(loss = 'categorical_crossentropy', optimizer='adam',metrics = ['accuracy'])\n",
    "print(model.summary())"
   ]
  },
  {
   "cell_type": "markdown",
   "metadata": {},
   "source": [
    "Separação entre treinamento e teste:"
   ]
  },
  {
   "cell_type": "code",
   "execution_count": 42,
   "metadata": {},
   "outputs": [],
   "source": [
    "Ydummies = pd.get_dummies(data['grouped_review']).values\n",
    "\n",
    "X_train, X_test, Y_train, Y_test = train_test_split(X,Ydummies, test_size = 0.33, random_state = 42)"
   ]
  },
  {
   "cell_type": "markdown",
   "metadata": {},
   "source": [
    "Ajuste do modelo. Novamente, serão utilizadas apenas 7 épocas devido ao tempo que leva para treinara a rede."
   ]
  },
  {
   "cell_type": "code",
   "execution_count": 45,
   "metadata": {},
   "outputs": [
    {
     "name": "stderr",
     "output_type": "stream",
     "text": [
      "C:\\Users\\ramon\\AppData\\Roaming\\Python\\Python37\\site-packages\\tensorflow\\python\\framework\\indexed_slices.py:434: UserWarning: Converting sparse IndexedSlices to a dense Tensor of unknown shape. This may consume a large amount of memory.\n",
      "  \"Converting sparse IndexedSlices to a dense Tensor of unknown shape. \"\n"
     ]
    },
    {
     "name": "stdout",
     "output_type": "stream",
     "text": [
      "Epoch 1/7\n",
      " - 112s - loss: 0.3349 - accuracy: 0.8663\n",
      "Epoch 2/7\n",
      " - 100s - loss: 0.2728 - accuracy: 0.8994\n",
      "Epoch 3/7\n",
      " - 102s - loss: 0.2543 - accuracy: 0.9063\n",
      "Epoch 4/7\n",
      " - 102s - loss: 0.2369 - accuracy: 0.9131\n",
      "Epoch 5/7\n",
      " - 100s - loss: 0.2243 - accuracy: 0.9184\n",
      "Epoch 6/7\n",
      " - 101s - loss: 0.2122 - accuracy: 0.9230\n",
      "Epoch 7/7\n",
      " - 100s - loss: 0.2023 - accuracy: 0.9259\n"
     ]
    },
    {
     "data": {
      "text/plain": [
       "<keras.callbacks.callbacks.History at 0x2651bc55b48>"
      ]
     },
     "execution_count": 45,
     "metadata": {},
     "output_type": "execute_result"
    }
   ],
   "source": [
    "batch_size = 32\n",
    "model.fit(X_train, Y_train, epochs = 7, batch_size=batch_size, verbose = 2)"
   ]
  },
  {
   "cell_type": "markdown",
   "metadata": {},
   "source": [
    "É possível perceber que a acurácia no conjunto de treinamento aumenta com o passar das épocas. Abaixo a performance da rede será avaliada no conjunto de teste."
   ]
  },
  {
   "cell_type": "code",
   "execution_count": 54,
   "metadata": {},
   "outputs": [
    {
     "name": "stdout",
     "output_type": "stream",
     "text": [
      "score: 0.29\n",
      "acc: 0.90\n"
     ]
    }
   ],
   "source": [
    "score,acc = model.evaluate(X_test, Y_test, verbose = 2, batch_size = batch_size)\n",
    "print(\"score: %.2f\" % (score))\n",
    "print(\"acc: %.2f\" % (acc))"
   ]
  },
  {
   "cell_type": "markdown",
   "metadata": {},
   "source": [
    "A  acurácia obtida para este modelo é de 90%. Testando novas reviews para validar os resultados:"
   ]
  },
  {
   "cell_type": "code",
   "execution_count": 55,
   "metadata": {},
   "outputs": [
    {
     "name": "stdout",
     "output_type": "stream",
     "text": [
      "[[  0   0   0   0   0   0   0   0   0   0   0   0   0   0   0   0   0   0\n",
      "    0   0   0   0   0   0   0   0   0   0   0   0   0   0   0   0   0   0\n",
      "    0   0   0   0   0 166   2]]\n",
      "review negativa\n"
     ]
    }
   ],
   "source": [
    "# Review e tokenização\n",
    "review = ['odiei esse produto']\n",
    "review = tokenizer.texts_to_sequences(review)\n",
    "review = pad_sequences(review, maxlen=43, dtype='int32', value=0)\n",
    "print(review)\n",
    "\n",
    "# Predição do modelo\n",
    "sentiment = model.predict(review,batch_size=1,verbose = 2)[0]\n",
    "if(np.argmax(sentiment) == 0):\n",
    "    print(\"review negativa\")\n",
    "elif (np.argmax(sentiment) == 1):\n",
    "    print(\"review positiva\")"
   ]
  },
  {
   "cell_type": "code",
   "execution_count": 56,
   "metadata": {},
   "outputs": [
    {
     "name": "stdout",
     "output_type": "stream",
     "text": [
      "[[  0   0   0   0   0   0   0   0   0   0   0   0   0   0   0   0   0   0\n",
      "    0   0   0   0   0   0   0   0   0   0   0   0   0   0   0   0   0   0\n",
      "    1   2   2  14  16   9 158]]\n",
      "review positiva\n"
     ]
    }
   ],
   "source": [
    "# Review e tokenização\n",
    "review = ['o produto produto chegou no prazo esperado']\n",
    "review = tokenizer.texts_to_sequences(review)\n",
    "review = pad_sequences(review, maxlen=43, dtype='int32', value=0)\n",
    "print(review)\n",
    "\n",
    "# Predição do modelo\n",
    "sentiment = model.predict(review,batch_size=1,verbose = 2)[0]\n",
    "if(np.argmax(sentiment) == 0):\n",
    "    print(\"review negativa\")\n",
    "elif (np.argmax(sentiment) == 1):\n",
    "    print(\"review positiva\")"
   ]
  },
  {
   "cell_type": "markdown",
   "metadata": {},
   "source": [
    "## Conclusão\n",
    "\n",
    "Neste trabalho, foram utilizadas 3 abordagens para solucionar o problema de classificação de avaliações de clientes no site de e-commerce da Olist Brasil, cujas acurácias obtidas foram:\n",
    "\n",
    "- TF-IDF + Regressão Logística: 89.26%\n",
    "- Bag of Words + Regressão Logística : 89.03%\n",
    "- Tokenização simples + LSTM: 89.56%\n",
    "\n",
    "Em relação à performance, a rede LSTM foi a melhor. Apesar de ter obtido resultados apenas ligeiramente superiores às demais abordagens, ressalta-se que não foi realizado nenhum tipo de otimização dos parâmetros dessa rede, e que ela foi treinada por apenas 7 épocas devido ao tempo. Logo, ela parece ser a de maior potencial para obter acurácias ainda maiores dentre as abordagens testadas. \n",
    "\n",
    "Os resultados mostram que as três formas de resolução do problema são eficazes. O objetivo do trabalho era explorar e validar diferentes abordagens de análise de sentimento em textos, e foi cumprido com sucesso. "
   ]
  }
 ],
 "metadata": {
  "kernelspec": {
   "display_name": "Python 3",
   "language": "python",
   "name": "python3"
  },
  "language_info": {
   "codemirror_mode": {
    "name": "ipython",
    "version": 3
   },
   "file_extension": ".py",
   "mimetype": "text/x-python",
   "name": "python",
   "nbconvert_exporter": "python",
   "pygments_lexer": "ipython3",
   "version": "3.7.7"
  },
  "varInspector": {
   "cols": {
    "lenName": 16,
    "lenType": 16,
    "lenVar": 40
   },
   "kernels_config": {
    "python": {
     "delete_cmd_postfix": "",
     "delete_cmd_prefix": "del ",
     "library": "var_list.py",
     "varRefreshCmd": "print(var_dic_list())"
    },
    "r": {
     "delete_cmd_postfix": ") ",
     "delete_cmd_prefix": "rm(",
     "library": "var_list.r",
     "varRefreshCmd": "cat(var_dic_list()) "
    }
   },
   "types_to_exclude": [
    "module",
    "function",
    "builtin_function_or_method",
    "instance",
    "_Feature"
   ],
   "window_display": false
  }
 },
 "nbformat": 4,
 "nbformat_minor": 2
}
