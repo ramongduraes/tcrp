{
 "cells": [
  {
   "cell_type": "markdown",
   "metadata": {},
   "source": [
    "# Técnicas Clássicas de Reconhecimento de Padrões (2020/01)\n",
    "## Exercício 04 - Classificador Bayesiano\n",
    "\n",
    "**Aluno: Ramon Gomes Durães de Oliveira (2019720188)**"
   ]
  },
  {
   "cell_type": "markdown",
   "metadata": {},
   "source": [
    "Neste exercício será implementado um classificador Bayesiano. Suas características e propriedades serão explorados em dados sintéticos e, em seguida, nos dados de leucemia (Golub et al 1999)."
   ]
  },
  {
   "cell_type": "markdown",
   "metadata": {},
   "source": [
    "## Gerando dados sintéticos"
   ]
  },
  {
   "cell_type": "markdown",
   "metadata": {},
   "source": [
    "Abaixo, serão geradas duas classes sintéticas utilizando gaussianas multivariadas. Uma delas apresentará correlação entre os eixos."
   ]
  },
  {
   "cell_type": "code",
   "execution_count": 1,
   "metadata": {},
   "outputs": [
    {
     "data": {
      "text/plain": [
       "<matplotlib.axes._subplots.AxesSubplot at 0x1deb555d048>"
      ]
     },
     "execution_count": 1,
     "metadata": {},
     "output_type": "execute_result"
    },
    {
     "data": {
      "image/png": "[encoded data removed]",
      "text/plain": [
       "<Figure size 432x288 with 1 Axes>"
      ]
     },
     "metadata": {
      "needs_background": "light"
     },
     "output_type": "display_data"
    }
   ],
   "source": [
    "import numpy as np\n",
    "import pandas as pd\n",
    "import matplotlib.pyplot as plt\n",
    "%matplotlib inline\n",
    "\n",
    "mean1 = np.array((5,5))\n",
    "cov1 = np.array(((.5, 0.),\n",
    "                 (0., .5)))\n",
    "n1 = 200\n",
    "y1 = 0\n",
    "data1 = pd.DataFrame(np.random.multivariate_normal(mean1, cov1, n1), columns=['x1','x2'])\n",
    "data1['y'] = y1\n",
    "\n",
    "mean2 = np.array((6.5,6.5))\n",
    "cov2 = np.array(((.8, -0.7),\n",
    "                 (-0.7, .8)))\n",
    "n2 = 200\n",
    "y2 = 1\n",
    "data2 = pd.DataFrame(np.random.multivariate_normal(mean2, cov2, n2), columns=['x1','x2'])\n",
    "data2['y'] = y2\n",
    "\n",
    "colors = {0: 'red', 1: 'blue'}\n",
    "data = pd.concat([data1, data2])\n",
    "data.plot.scatter(x='x1', y='x2', c=data['y'].replace(colors))"
   ]
  },
  {
   "cell_type": "markdown",
   "metadata": {},
   "source": [
    "## Classificador Bayesiano"
   ]
  },
  {
   "cell_type": "markdown",
   "metadata": {},
   "source": [
    "Assume normalidade para as classes"
   ]
  },
  {
   "cell_type": "markdown",
   "metadata": {},
   "source": [
    "### Média e Covariância Amostral por classe:"
   ]
  },
  {
   "cell_type": "code",
   "execution_count": 2,
   "metadata": {},
   "outputs": [],
   "source": [
    "def estimate_means_and_covariances(data):\n",
    "    classes = data.y.unique()\n",
    "    result = {'covariances': list(),\n",
    "             'means': list()}\n",
    "    for c in classes:\n",
    "        d = data[data['y']==c].loc[:,data.columns != 'y']\n",
    "        cov = np.cov(d.T)\n",
    "        mean = np.mean(d).values\n",
    "        result['covariances'].append(cov)\n",
    "        result['means'].append(mean)\n",
    "    return result"
   ]
  },
  {
   "cell_type": "code",
   "execution_count": 3,
   "metadata": {},
   "outputs": [
    {
     "data": {
      "text/plain": [
       "{'covariances': [array([[ 0.59159635, -0.05219555],\n",
       "         [-0.05219555,  0.41875764]]), array([[ 0.72562221, -0.59224901],\n",
       "         [-0.59224901,  0.66566701]])],\n",
       " 'means': [array([5.0275359 , 5.00023153]), array([6.52075218, 6.47378106])]}"
      ]
     },
     "execution_count": 3,
     "metadata": {},
     "output_type": "execute_result"
    }
   ],
   "source": [
    "stats = estimate_means_and_covariances(data)\n",
    "stats"
   ]
  },
  {
   "cell_type": "markdown",
   "metadata": {},
   "source": [
    "Nota-se que a covariância amostral (estimada acima) é próxima à covariância utilizada para gerar os dados."
   ]
  },
  {
   "cell_type": "markdown",
   "metadata": {},
   "source": [
    "### Função de Densidade de Probabilidade Multivariada"
   ]
  },
  {
   "cell_type": "markdown",
   "metadata": {},
   "source": [
    "Regra de Bayes:\n",
    "\n",
    "$P(C_i|x) = \\frac{P(x|C_i)*P(C_i)}{P(x)}$\n",
    "\n",
    "Em que $P(C_i)$ é uma contagem, $P(x)$ é um normalizador (não necessário aqui) e $P(x|C_i)$ é o \"core\" do classificador em si. \n",
    "\n",
    "Implementando a função de densidade de probabilidade multivariada:\n",
    "\n",
    "$f(x;\\mu,\\Sigma)=\\frac{1}{\\sqrt{(2\\pi)^k*det(\\Sigma)}}*e^{-\\frac{1}{2}*((x-\\mu)^T \\cdot inv(\\Sigma) \\cdot (x-\\mu))}$"
   ]
  },
  {
   "cell_type": "code",
   "execution_count": 4,
   "metadata": {},
   "outputs": [],
   "source": [
    "def multivariate_pdf(x, mean, cov):\n",
    "    size = len(x)\n",
    "    x = np.array(x).reshape((1, size))\n",
    "    mean = np.array(mean).reshape((1, size))\n",
    "    cov = np.array(cov).reshape((size,size))\n",
    "    if x.shape == mean.shape and (size, size) == cov.shape:\n",
    "        det = np.linalg.det(cov)\n",
    "        term1 = 1.0 / ( np.power((2*np.pi),(float(size)/2)) * np.power(det, 0.5))\n",
    "        term2 = x-mean\n",
    "        term3 = np.linalg.pinv(cov)\n",
    "        term4 = np.power(np.e,(-0.5 * np.matmul(np.matmul(term2,  term3), term2.T)))\n",
    "        return term1 * term4"
   ]
  },
  {
   "cell_type": "markdown",
   "metadata": {},
   "source": [
    "Avaliando a função no primeiro ponto, utilizando as médias e matrizes de covariância relativas a cada uma das classes, espera-se que o valor retornado pela classe 1 seja maior que o valor retornado pela classe 2:"
   ]
  },
  {
   "cell_type": "code",
   "execution_count": 5,
   "metadata": {},
   "outputs": [
    {
     "data": {
      "text/plain": [
       "array([[0.06634934]])"
      ]
     },
     "execution_count": 5,
     "metadata": {},
     "output_type": "execute_result"
    }
   ],
   "source": [
    "multivariate_pdf(data.loc[:,data.columns!='y'].iloc[0], \n",
    "                 stats['means'][0],  # mu1 \n",
    "                 stats['covariances'][0]) # Sigma1"
   ]
  },
  {
   "cell_type": "code",
   "execution_count": 6,
   "metadata": {},
   "outputs": [
    {
     "data": {
      "text/plain": [
       "array([[1.06822561e-12]])"
      ]
     },
     "execution_count": 6,
     "metadata": {},
     "output_type": "execute_result"
    }
   ],
   "source": [
    "multivariate_pdf(data.loc[:,data.columns!='y'].iloc[0], \n",
    "                 stats['means'][1], # mu2\n",
    "                 stats['covariances'][1]) # Sigma 2"
   ]
  },
  {
   "cell_type": "markdown",
   "metadata": {},
   "source": [
    "De fato este é o caso!"
   ]
  },
  {
   "cell_type": "markdown",
   "metadata": {},
   "source": [
    "### Visualização da Fronteira de Decisão e das Superfícies de Probabilidade"
   ]
  },
  {
   "cell_type": "markdown",
   "metadata": {},
   "source": [
    "Calculando as superfícies de densidade de probabilidade para cada classe:"
   ]
  },
  {
   "cell_type": "code",
   "execution_count": 7,
   "metadata": {},
   "outputs": [],
   "source": [
    "from matplotlib.ticker import LinearLocator, FormatStrFormatter\n",
    "from matplotlib import cm\n",
    "\n",
    "X = np.arange(3, 9.25, 0.25)\n",
    "Y = np.arange(3, 9.25, 0.25)\n",
    "X, Y = np.meshgrid(X, Y)\n",
    "\n",
    "Z1 = np.zeros(X.shape)\n",
    "Z2 = np.zeros(X.shape)\n",
    "\n",
    "for i in np.arange(X.shape[0]):\n",
    "    for j in np.arange(X.shape[1]):\n",
    "        Z1[i, j] = multivariate_pdf([X[i,j], Y[i,j]], \n",
    "                     stats['means'][0],  # mu1 \n",
    "                     stats['covariances'][0]) # Sigma1\n",
    "        Z2[i, j] = multivariate_pdf([X[i,j], Y[i,j]], \n",
    "                     stats['means'][1],  # mu1 \n",
    "                     stats['covariances'][1]) # Sigma1"
   ]
  },
  {
   "cell_type": "markdown",
   "metadata": {},
   "source": [
    "Abaixo, a superfície exibida à esquerda é a PDF resultante da subtração da PDF da classe 1 pela da classe 2. Isso é feito apenas para melhorar a visualização, já que não fariam sentido probabilidades negativas. À direita podemos ver a curva de separação resultante em duas dimensões $\\frac{P(x|C_1)}{P(x|C_2)} = 1$."
   ]
  },
  {
   "cell_type": "code",
   "execution_count": 8,
   "metadata": {},
   "outputs": [
    {
     "data": {
      "text/plain": [
       "<matplotlib.contour.QuadContourSet at 0x1deb56d7da0>"
      ]
     },
     "execution_count": 8,
     "metadata": {},
     "output_type": "execute_result"
    },
    {
     "data": {
      "image/png": "[encoded data removed]",
      "text/plain": [
       "<Figure size 1152x288 with 3 Axes>"
      ]
     },
     "metadata": {
      "needs_background": "light"
     },
     "output_type": "display_data"
    }
   ],
   "source": [
    "fig = plt.figure(figsize=plt.figaspect(0.25))\n",
    "ax = fig.add_subplot(1, 2, 1, projection='3d')\n",
    "surf1 = ax.plot_surface(X, Y, Z1-Z2, cmap=cm.coolwarm, alpha = 0.5,\n",
    "                        linewidth=0, antialiased=False)\n",
    "\n",
    "#surf2 = ax.plot_surface(X, Y, Z2, cmap=cm.cool, alpha = 0.5,\n",
    "#                        linewidth=0, antialiased=False)\n",
    "\n",
    "# Customize the z axis.\n",
    "ax.set_zlim(-.35, .35)\n",
    "ax.zaxis.set_major_locator(LinearLocator(10))\n",
    "ax.zaxis.set_major_formatter(FormatStrFormatter('%.02f'))\n",
    "\n",
    "# Add a color bar which maps values to colors.\n",
    "fig.colorbar(surf1, shrink=0.5, aspect=5)\n",
    "\n",
    "\n",
    "ax1 = fig.add_subplot(1, 2, 2)\n",
    "data.plot.scatter(x='x1', y='x2', c=data['y'].replace(colors), ax=(ax1))\n",
    "ax1.contour(X,Y,(Z1/Z2), [1.], colors='k')"
   ]
  },
  {
   "cell_type": "markdown",
   "metadata": {},
   "source": [
    "## Repetindo o processo para um segundo conjunto de dados sintético:"
   ]
  },
  {
   "cell_type": "markdown",
   "metadata": {},
   "source": [
    "Para explorar as propriedades do classificador, todo o processo acima será repetido para novos dados sintéticos. Dessa vez, haverá desbalanceamento entre as classes e uma delas estará mais concentrada em uma região."
   ]
  },
  {
   "cell_type": "code",
   "execution_count": 9,
   "metadata": {},
   "outputs": [
    {
     "data": {
      "text/plain": [
       "<matplotlib.contour.QuadContourSet at 0x1deb57e4668>"
      ]
     },
     "execution_count": 9,
     "metadata": {},
     "output_type": "execute_result"
    },
    {
     "data": {
      "image/png": "[encoded data removed]",
      "text/plain": [
       "<Figure size 1152x288 with 3 Axes>"
      ]
     },
     "metadata": {
      "needs_background": "light"
     },
     "output_type": "display_data"
    }
   ],
   "source": [
    "# Gerando os dados\n",
    "mean1 = np.array((6,6))\n",
    "cov1 = np.array(((.2, 0.),\n",
    "                 (0., .2)))\n",
    "n1 = 100\n",
    "y1 = 0\n",
    "data1 = pd.DataFrame(np.random.multivariate_normal(mean1, cov1, n1), columns=['x1','x2'])\n",
    "data1['y'] = y1\n",
    "\n",
    "mean2 = np.array((4.5,4.5))\n",
    "cov2 = np.array(((.8, 0.3),\n",
    "                 (0.3, .8)))\n",
    "n2 = 200\n",
    "y2 = 1\n",
    "data2 = pd.DataFrame(np.random.multivariate_normal(mean2, cov2, n2), columns=['x1','x2'])\n",
    "data2['y'] = y2\n",
    "\n",
    "colors = {0: 'red', 1: 'blue'}\n",
    "data = pd.concat([data1, data2])\n",
    "\n",
    "stats = estimate_means_and_covariances(data)\n",
    "stats\n",
    "\n",
    "X = np.arange(3, 9.25, 0.25)\n",
    "Y = np.arange(3, 9.25, 0.25)\n",
    "X, Y = np.meshgrid(X, Y)\n",
    "\n",
    "Z1 = np.zeros(X.shape)\n",
    "Z2 = np.zeros(X.shape)\n",
    "\n",
    "for i in np.arange(X.shape[0]):\n",
    "    for j in np.arange(X.shape[1]):\n",
    "        Z1[i, j] = multivariate_pdf([X[i,j], Y[i,j]], \n",
    "                     stats['means'][0],  # mu1 \n",
    "                     stats['covariances'][0]) # Sigma1\n",
    "        Z2[i, j] = multivariate_pdf([X[i,j], Y[i,j]], \n",
    "                     stats['means'][1],  # mu1 \n",
    "                     stats['covariances'][1]) # Sigma1\n",
    "        \n",
    "fig = plt.figure(figsize=plt.figaspect(0.25))\n",
    "ax = fig.add_subplot(1, 2, 1, projection='3d')\n",
    "surf1 = ax.plot_surface(X, Y, Z1-Z2, cmap=cm.coolwarm, alpha = 0.5,\n",
    "                        linewidth=0, antialiased=False)\n",
    "\n",
    "#surf2 = ax.plot_surface(X, Y, Z2, cmap=cm.cool, alpha = 0.5,\n",
    "#                        linewidth=0, antialiased=False)\n",
    "\n",
    "# Customize the z axis.\n",
    "ax.set_zlim(-.3, .75)\n",
    "ax.zaxis.set_major_locator(LinearLocator(10))\n",
    "ax.zaxis.set_major_formatter(FormatStrFormatter('%.02f'))\n",
    "\n",
    "# Add a color bar which maps values to colors.\n",
    "fig.colorbar(surf1, shrink=0.5, aspect=5)\n",
    "\n",
    "\n",
    "ax1 = fig.add_subplot(1, 2, 2)\n",
    "data.plot.scatter(x='x1', y='x2', c=data['y'].replace(colors), ax=(ax1))\n",
    "ax1.contour(X,Y,(Z1/Z2), [1.], colors='k')"
   ]
  },
  {
   "cell_type": "markdown",
   "metadata": {},
   "source": [
    "# Classificando os dados de Leucemia (Golub et al)"
   ]
  },
  {
   "cell_type": "markdown",
   "metadata": {},
   "source": [
    "## Pré-processamento de dados "
   ]
  },
  {
   "cell_type": "markdown",
   "metadata": {},
   "source": [
    "Bem como no trabalho anterior, os dados serão limpados e o conjunto de genes mais relevante para a classificação será selecionado antes da classificação em si. As explicações detalhadas de cada processo estão no relatório anterior, de replicação do trabalho de Golub et al. Aqui elas foram removidas por economia de espaço."
   ]
  },
  {
   "cell_type": "markdown",
   "metadata": {},
   "source": [
    "### Carregando e Limpeza os Dados"
   ]
  },
  {
   "cell_type": "markdown",
   "metadata": {},
   "source": [
    "Dados de treinamento"
   ]
  },
  {
   "cell_type": "code",
   "execution_count": 10,
   "metadata": {},
   "outputs": [
    {
     "data": {
      "text/html": [
       "<div>\n",
       "<style scoped>\n",
       "    .dataframe tbody tr th:only-of-type {\n",
       "        vertical-align: middle;\n",
       "    }\n",
       "\n",
       "    .dataframe tbody tr th {\n",
       "        vertical-align: top;\n",
       "    }\n",
       "\n",
       "    .dataframe thead th {\n",
       "        text-align: right;\n",
       "    }\n",
       "</style>\n",
       "<table border=\"1\" class=\"dataframe\">\n",
       "  <thead>\n",
       "    <tr style=\"text-align: right;\">\n",
       "      <th></th>\n",
       "      <th>0</th>\n",
       "      <th>1</th>\n",
       "      <th>2</th>\n",
       "      <th>3</th>\n",
       "      <th>4</th>\n",
       "      <th>5</th>\n",
       "      <th>6</th>\n",
       "      <th>7</th>\n",
       "      <th>8</th>\n",
       "      <th>9</th>\n",
       "      <th>...</th>\n",
       "      <th>7120</th>\n",
       "      <th>7121</th>\n",
       "      <th>7122</th>\n",
       "      <th>7123</th>\n",
       "      <th>7124</th>\n",
       "      <th>7125</th>\n",
       "      <th>7126</th>\n",
       "      <th>7127</th>\n",
       "      <th>7128</th>\n",
       "      <th>class</th>\n",
       "    </tr>\n",
       "  </thead>\n",
       "  <tbody>\n",
       "    <tr>\n",
       "      <th>1</th>\n",
       "      <td>-214</td>\n",
       "      <td>-153</td>\n",
       "      <td>-58</td>\n",
       "      <td>88</td>\n",
       "      <td>-295</td>\n",
       "      <td>-558</td>\n",
       "      <td>199</td>\n",
       "      <td>-176</td>\n",
       "      <td>252</td>\n",
       "      <td>206</td>\n",
       "      <td>...</td>\n",
       "      <td>511</td>\n",
       "      <td>-125</td>\n",
       "      <td>389</td>\n",
       "      <td>-37</td>\n",
       "      <td>793</td>\n",
       "      <td>329</td>\n",
       "      <td>36</td>\n",
       "      <td>191</td>\n",
       "      <td>-37</td>\n",
       "      <td>1</td>\n",
       "    </tr>\n",
       "    <tr>\n",
       "      <th>2</th>\n",
       "      <td>-139</td>\n",
       "      <td>-73</td>\n",
       "      <td>-1</td>\n",
       "      <td>283</td>\n",
       "      <td>-264</td>\n",
       "      <td>-400</td>\n",
       "      <td>-330</td>\n",
       "      <td>-168</td>\n",
       "      <td>101</td>\n",
       "      <td>74</td>\n",
       "      <td>...</td>\n",
       "      <td>837</td>\n",
       "      <td>-36</td>\n",
       "      <td>442</td>\n",
       "      <td>-17</td>\n",
       "      <td>782</td>\n",
       "      <td>295</td>\n",
       "      <td>11</td>\n",
       "      <td>76</td>\n",
       "      <td>-14</td>\n",
       "      <td>1</td>\n",
       "    </tr>\n",
       "    <tr>\n",
       "      <th>3</th>\n",
       "      <td>-76</td>\n",
       "      <td>-49</td>\n",
       "      <td>-307</td>\n",
       "      <td>309</td>\n",
       "      <td>-376</td>\n",
       "      <td>-650</td>\n",
       "      <td>33</td>\n",
       "      <td>-367</td>\n",
       "      <td>206</td>\n",
       "      <td>-215</td>\n",
       "      <td>...</td>\n",
       "      <td>1199</td>\n",
       "      <td>33</td>\n",
       "      <td>168</td>\n",
       "      <td>52</td>\n",
       "      <td>1138</td>\n",
       "      <td>777</td>\n",
       "      <td>41</td>\n",
       "      <td>228</td>\n",
       "      <td>-41</td>\n",
       "      <td>1</td>\n",
       "    </tr>\n",
       "    <tr>\n",
       "      <th>4</th>\n",
       "      <td>-135</td>\n",
       "      <td>-114</td>\n",
       "      <td>265</td>\n",
       "      <td>12</td>\n",
       "      <td>-419</td>\n",
       "      <td>-585</td>\n",
       "      <td>158</td>\n",
       "      <td>-253</td>\n",
       "      <td>49</td>\n",
       "      <td>31</td>\n",
       "      <td>...</td>\n",
       "      <td>835</td>\n",
       "      <td>218</td>\n",
       "      <td>174</td>\n",
       "      <td>-110</td>\n",
       "      <td>627</td>\n",
       "      <td>170</td>\n",
       "      <td>-50</td>\n",
       "      <td>126</td>\n",
       "      <td>-91</td>\n",
       "      <td>1</td>\n",
       "    </tr>\n",
       "    <tr>\n",
       "      <th>5</th>\n",
       "      <td>-106</td>\n",
       "      <td>-125</td>\n",
       "      <td>-76</td>\n",
       "      <td>168</td>\n",
       "      <td>-230</td>\n",
       "      <td>-284</td>\n",
       "      <td>4</td>\n",
       "      <td>-122</td>\n",
       "      <td>70</td>\n",
       "      <td>252</td>\n",
       "      <td>...</td>\n",
       "      <td>649</td>\n",
       "      <td>57</td>\n",
       "      <td>504</td>\n",
       "      <td>-26</td>\n",
       "      <td>250</td>\n",
       "      <td>314</td>\n",
       "      <td>14</td>\n",
       "      <td>56</td>\n",
       "      <td>-25</td>\n",
       "      <td>1</td>\n",
       "    </tr>\n",
       "  </tbody>\n",
       "</table>\n",
       "<p>5 rows × 7130 columns</p>\n",
       "</div>"
      ],
      "text/plain": [
       "      0     1     2    3     4     5     6     7    8     9  ...  7120  7121  \\\n",
       "1  -214  -153   -58   88  -295  -558   199  -176  252   206  ...   511  -125   \n",
       "2  -139   -73    -1  283  -264  -400  -330  -168  101    74  ...   837   -36   \n",
       "3   -76   -49  -307  309  -376  -650    33  -367  206  -215  ...  1199    33   \n",
       "4  -135  -114   265   12  -419  -585   158  -253   49    31  ...   835   218   \n",
       "5  -106  -125   -76  168  -230  -284     4  -122   70   252  ...   649    57   \n",
       "\n",
       "  7122  7123  7124 7125 7126 7127 7128 class  \n",
       "1  389   -37   793  329   36  191  -37     1  \n",
       "2  442   -17   782  295   11   76  -14     1  \n",
       "3  168    52  1138  777   41  228  -41     1  \n",
       "4  174  -110   627  170  -50  126  -91     1  \n",
       "5  504   -26   250  314   14   56  -25     1  \n",
       "\n",
       "[5 rows x 7130 columns]"
      ]
     },
     "execution_count": 10,
     "metadata": {},
     "output_type": "execute_result"
    }
   ],
   "source": [
    "class_df = pd.read_csv('./data/actual.csv')\n",
    "train_df = pd.read_csv('./data/data_set_ALL_AML_train.csv')\n",
    "test_df = pd.read_csv('./data/data_set_ALL_AML_independent.csv')\n",
    "\n",
    "valid_columns = [col for col in train_df.columns if \"call\" not in col]\n",
    "train_df = train_df[valid_columns]\n",
    "train_df = train_df.T\n",
    "train_df = train_df.drop(['Gene Description','Gene Accession Number'],axis=0)\n",
    "train_df.index = pd.to_numeric(train_df.index)\n",
    "train_df.sort_index(inplace=True)\n",
    "class_dict = {'AML':0,'ALL':1}\n",
    "train_df['class'] = class_df[:38]['cancer'].replace(class_dict).values\n",
    "train_df.head()"
   ]
  },
  {
   "cell_type": "markdown",
   "metadata": {},
   "source": [
    "Dados de teste:"
   ]
  },
  {
   "cell_type": "code",
   "execution_count": 11,
   "metadata": {
    "scrolled": true
   },
   "outputs": [
    {
     "data": {
      "text/html": [
       "<div>\n",
       "<style scoped>\n",
       "    .dataframe tbody tr th:only-of-type {\n",
       "        vertical-align: middle;\n",
       "    }\n",
       "\n",
       "    .dataframe tbody tr th {\n",
       "        vertical-align: top;\n",
       "    }\n",
       "\n",
       "    .dataframe thead th {\n",
       "        text-align: right;\n",
       "    }\n",
       "</style>\n",
       "<table border=\"1\" class=\"dataframe\">\n",
       "  <thead>\n",
       "    <tr style=\"text-align: right;\">\n",
       "      <th></th>\n",
       "      <th>0</th>\n",
       "      <th>1</th>\n",
       "      <th>2</th>\n",
       "      <th>3</th>\n",
       "      <th>4</th>\n",
       "      <th>5</th>\n",
       "      <th>6</th>\n",
       "      <th>7</th>\n",
       "      <th>8</th>\n",
       "      <th>9</th>\n",
       "      <th>...</th>\n",
       "      <th>7120</th>\n",
       "      <th>7121</th>\n",
       "      <th>7122</th>\n",
       "      <th>7123</th>\n",
       "      <th>7124</th>\n",
       "      <th>7125</th>\n",
       "      <th>7126</th>\n",
       "      <th>7127</th>\n",
       "      <th>7128</th>\n",
       "      <th>class</th>\n",
       "    </tr>\n",
       "  </thead>\n",
       "  <tbody>\n",
       "    <tr>\n",
       "      <th>39</th>\n",
       "      <td>-342</td>\n",
       "      <td>-200</td>\n",
       "      <td>41</td>\n",
       "      <td>328</td>\n",
       "      <td>-224</td>\n",
       "      <td>-427</td>\n",
       "      <td>-656</td>\n",
       "      <td>-292</td>\n",
       "      <td>137</td>\n",
       "      <td>-144</td>\n",
       "      <td>...</td>\n",
       "      <td>1023</td>\n",
       "      <td>67</td>\n",
       "      <td>214</td>\n",
       "      <td>-135</td>\n",
       "      <td>1074</td>\n",
       "      <td>475</td>\n",
       "      <td>48</td>\n",
       "      <td>168</td>\n",
       "      <td>-70</td>\n",
       "      <td>1</td>\n",
       "    </tr>\n",
       "    <tr>\n",
       "      <th>40</th>\n",
       "      <td>-87</td>\n",
       "      <td>-248</td>\n",
       "      <td>262</td>\n",
       "      <td>295</td>\n",
       "      <td>-226</td>\n",
       "      <td>-493</td>\n",
       "      <td>367</td>\n",
       "      <td>-452</td>\n",
       "      <td>194</td>\n",
       "      <td>162</td>\n",
       "      <td>...</td>\n",
       "      <td>529</td>\n",
       "      <td>-295</td>\n",
       "      <td>352</td>\n",
       "      <td>-67</td>\n",
       "      <td>67</td>\n",
       "      <td>263</td>\n",
       "      <td>-33</td>\n",
       "      <td>-33</td>\n",
       "      <td>-21</td>\n",
       "      <td>1</td>\n",
       "    </tr>\n",
       "    <tr>\n",
       "      <th>41</th>\n",
       "      <td>-62</td>\n",
       "      <td>-23</td>\n",
       "      <td>-7</td>\n",
       "      <td>142</td>\n",
       "      <td>-233</td>\n",
       "      <td>-284</td>\n",
       "      <td>-167</td>\n",
       "      <td>-97</td>\n",
       "      <td>-12</td>\n",
       "      <td>-70</td>\n",
       "      <td>...</td>\n",
       "      <td>383</td>\n",
       "      <td>46</td>\n",
       "      <td>104</td>\n",
       "      <td>15</td>\n",
       "      <td>245</td>\n",
       "      <td>164</td>\n",
       "      <td>84</td>\n",
       "      <td>100</td>\n",
       "      <td>-18</td>\n",
       "      <td>1</td>\n",
       "    </tr>\n",
       "    <tr>\n",
       "      <th>42</th>\n",
       "      <td>22</td>\n",
       "      <td>-153</td>\n",
       "      <td>17</td>\n",
       "      <td>276</td>\n",
       "      <td>-211</td>\n",
       "      <td>-250</td>\n",
       "      <td>55</td>\n",
       "      <td>-141</td>\n",
       "      <td>0</td>\n",
       "      <td>500</td>\n",
       "      <td>...</td>\n",
       "      <td>399</td>\n",
       "      <td>16</td>\n",
       "      <td>558</td>\n",
       "      <td>24</td>\n",
       "      <td>893</td>\n",
       "      <td>297</td>\n",
       "      <td>6</td>\n",
       "      <td>1971</td>\n",
       "      <td>-42</td>\n",
       "      <td>1</td>\n",
       "    </tr>\n",
       "    <tr>\n",
       "      <th>43</th>\n",
       "      <td>86</td>\n",
       "      <td>-36</td>\n",
       "      <td>-141</td>\n",
       "      <td>252</td>\n",
       "      <td>-201</td>\n",
       "      <td>-384</td>\n",
       "      <td>-420</td>\n",
       "      <td>-197</td>\n",
       "      <td>-60</td>\n",
       "      <td>-468</td>\n",
       "      <td>...</td>\n",
       "      <td>91</td>\n",
       "      <td>-84</td>\n",
       "      <td>615</td>\n",
       "      <td>-52</td>\n",
       "      <td>1235</td>\n",
       "      <td>9</td>\n",
       "      <td>7</td>\n",
       "      <td>1545</td>\n",
       "      <td>-81</td>\n",
       "      <td>1</td>\n",
       "    </tr>\n",
       "  </tbody>\n",
       "</table>\n",
       "<p>5 rows × 7130 columns</p>\n",
       "</div>"
      ],
      "text/plain": [
       "       0     1     2    3     4     5     6     7    8     9  ...  7120  7121  \\\n",
       "39  -342  -200    41  328  -224  -427  -656  -292  137  -144  ...  1023    67   \n",
       "40   -87  -248   262  295  -226  -493   367  -452  194   162  ...   529  -295   \n",
       "41   -62   -23    -7  142  -233  -284  -167   -97  -12   -70  ...   383    46   \n",
       "42    22  -153    17  276  -211  -250    55  -141    0   500  ...   399    16   \n",
       "43    86   -36  -141  252  -201  -384  -420  -197  -60  -468  ...    91   -84   \n",
       "\n",
       "   7122  7123  7124 7125 7126  7127 7128 class  \n",
       "39  214  -135  1074  475   48   168  -70     1  \n",
       "40  352   -67    67  263  -33   -33  -21     1  \n",
       "41  104    15   245  164   84   100  -18     1  \n",
       "42  558    24   893  297    6  1971  -42     1  \n",
       "43  615   -52  1235    9    7  1545  -81     1  \n",
       "\n",
       "[5 rows x 7130 columns]"
      ]
     },
     "execution_count": 11,
     "metadata": {},
     "output_type": "execute_result"
    }
   ],
   "source": [
    "valid_columns = [col for col in test_df.columns if \"call\" not in col]\n",
    "test_df = test_df[valid_columns]\n",
    "test_df = test_df.T\n",
    "test_df = test_df.drop(['Gene Description','Gene Accession Number'],axis=0)\n",
    "test_df.index = pd.to_numeric(test_df.index)\n",
    "test_df.sort_index(inplace=True)\n",
    "test_df['class'] = class_df[38:]['cancer'].replace(class_dict).values\n",
    "test_df.head()"
   ]
  },
  {
   "cell_type": "markdown",
   "metadata": {},
   "source": [
    "### Seleção de Genes Relevantes"
   ]
  },
  {
   "cell_type": "code",
   "execution_count": 12,
   "metadata": {},
   "outputs": [
    {
     "data": {
      "text/plain": [
       "(38, 50)"
      ]
     },
     "execution_count": 12,
     "metadata": {},
     "output_type": "execute_result"
    }
   ],
   "source": [
    "mu1 = train_df[train_df['class']==0].iloc[:,:-1].mean()\n",
    "sigma1 = train_df[train_df['class']==0].iloc[:,:-1].std()\n",
    "mu2 = train_df[train_df['class']==1].iloc[:,:-1].mean()\n",
    "sigma2 = train_df[train_df['class']==1].iloc[:,:-1].std()\n",
    "Pgc = (mu1 - mu2) / (sigma1 + sigma2)\n",
    "abs_Pgc = np.abs(Pgc)\n",
    "\n",
    "selected_genes = abs_Pgc>.91\n",
    "selected_genes = selected_genes.index[selected_genes.values]\n",
    "train_df[selected_genes].shape"
   ]
  },
  {
   "cell_type": "markdown",
   "metadata": {},
   "source": [
    "Nota-se que agora o conjunto de dados tem 38 observações mas apenas 50 genes."
   ]
  },
  {
   "cell_type": "markdown",
   "metadata": {},
   "source": [
    "## Classificação por Bayes"
   ]
  },
  {
   "cell_type": "markdown",
   "metadata": {},
   "source": [
    "### Estimando as Médias e Matrizes de Covariância"
   ]
  },
  {
   "cell_type": "code",
   "execution_count": 14,
   "metadata": {},
   "outputs": [],
   "source": [
    "from sklearn.preprocessing import StandardScaler\n",
    "\n",
    "training_data = train_df[selected_genes]\n",
    "training_data = training_data.astype(float)\n",
    "\n",
    "# Padronizando os dados\n",
    "# scaler = StandardScaler()\n",
    "# scaler.fit(training_data)\n",
    "# scaled_training_data = pd.DataFrame(scaler.transform(training_data), columns = selected_genes, index = training_data.index)\n",
    "# scaled_training_data['y'] = train_df['class']\n",
    "# stats = estimate_means_and_covariances(scaled_training_data)\n",
    "\n",
    "training_data['y'] = train_df['class']\n",
    "\n",
    "stats = estimate_means_and_covariances(training_data)"
   ]
  },
  {
   "cell_type": "code",
   "execution_count": null,
   "metadata": {},
   "outputs": [],
   "source": []
  },
  {
   "cell_type": "code",
   "execution_count": 14,
   "metadata": {},
   "outputs": [],
   "source": [
    "testing_data = test_df[selected_genes]\n",
    "testing_data = testing_data.astype(float)\n",
    "# Scaling data\n",
    "scaled_testing_data = pd.DataFrame(scaler.transform(testing_data), columns = selected_genes, index = testing_data.index)\n",
    "scaled_testing_data['y'] = test_df['class']"
   ]
  },
  {
   "cell_type": "code",
   "execution_count": 63,
   "metadata": {},
   "outputs": [],
   "source": [
    "def multivariate_pdf(x, mean, cov):\n",
    "    size = len(x)\n",
    "    x = np.array(x).reshape((1, size)).astype(Decimal)\n",
    "    mean = np.array(mean).reshape((1, size)).astype(Decimal)\n",
    "    cov = np.array(cov).reshape((size,size))\n",
    "    if x.shape == mean.shape and (size, size) == cov.shape:\n",
    "        det = np.linalg.det(cov).astype(Decimal)\n",
    "        term1 = 1.0 / ( np.power((2*np.pi),(float(size)/2)) * np.power(det, 0.5))\n",
    "        term1 = term1.astype(Decimal)\n",
    "        term2 = x-mean\n",
    "        term3 = np.linalg.pinv(cov).astype(Decimal)\n",
    "        term4 = np.power(np.e,(-0.5 * np.matmul(np.matmul(term2,  term3), term2.T)))\n",
    "        return term1 * term4"
   ]
  },
  {
   "cell_type": "code",
   "execution_count": 64,
   "metadata": {},
   "outputs": [
    {
     "name": "stderr",
     "output_type": "stream",
     "text": [
      "C:\\Users\\ramon\\Anaconda3\\envs\\rstudio\\lib\\site-packages\\ipykernel_launcher.py:8: RuntimeWarning: divide by zero encountered in double_scalars\n",
      "  \n"
     ]
    }
   ],
   "source": [
    "from decimal import Decimal\n",
    "\n",
    "n_test = scaled_testing_data.shape[0]\n",
    "PxC1 = np.zeros((n_test, 1))\n",
    "PxC2 = np.zeros((n_test, 1))\n",
    "\n",
    "for i in np.arange(n_test):\n",
    "    x = scaled_testing_data.loc[:,scaled_testing_data.columns != 'y'].iloc[i,:].values\n",
    "    PxC1[i] = multivariate_pdf(x,\n",
    "                               stats['means'][0],  # mu1 \n",
    "                               stats['covariances'][0]) # Sigma1\n",
    "#     PxC2[i] = multivariate_pdf(x.astype(Decimal),\n",
    "#                                stats['means'][1],  # mu1 \n",
    "#                                stats['covariances'][1]) # Sigma1"
   ]
  },
  {
   "cell_type": "code",
   "execution_count": 65,
   "metadata": {},
   "outputs": [
    {
     "data": {
      "text/plain": [
       "array([[inf],\n",
       "       [inf],\n",
       "       [inf],\n",
       "       [inf],\n",
       "       [inf],\n",
       "       [inf],\n",
       "       [inf],\n",
       "       [inf],\n",
       "       [inf],\n",
       "       [inf],\n",
       "       [inf],\n",
       "       [inf],\n",
       "       [inf],\n",
       "       [inf],\n",
       "       [inf],\n",
       "       [inf],\n",
       "       [inf],\n",
       "       [inf],\n",
       "       [inf],\n",
       "       [inf],\n",
       "       [inf],\n",
       "       [inf],\n",
       "       [inf],\n",
       "       [inf],\n",
       "       [inf],\n",
       "       [inf],\n",
       "       [inf],\n",
       "       [inf],\n",
       "       [inf],\n",
       "       [inf],\n",
       "       [inf],\n",
       "       [inf],\n",
       "       [inf],\n",
       "       [inf]])"
      ]
     },
     "execution_count": 65,
     "metadata": {},
     "output_type": "execute_result"
    }
   ],
   "source": [
    "PxC1"
   ]
  },
  {
   "cell_type": "code",
   "execution_count": 41,
   "metadata": {},
   "outputs": [
    {
     "data": {
      "text/plain": [
       "array([[-0.2536236262585501],\n",
       "       [0.21654998007178697],\n",
       "       [0.07628297615049964],\n",
       "       [-0.9185346317217585],\n",
       "       [-0.40295146548947613],\n",
       "       [-0.3781093484128048],\n",
       "       [-0.4592905672635411],\n",
       "       [0.2503306817506577],\n",
       "       [-0.33421328902566966],\n",
       "       [-0.39313982195164143],\n",
       "       [-0.7710659012235433],\n",
       "       [-0.5402798472105479],\n",
       "       [0.30561125094484926],\n",
       "       [-0.9544743200507897],\n",
       "       [0.12086664833428815],\n",
       "       [-0.7138436420472563],\n",
       "       [0.44377634429485613],\n",
       "       [-0.4045057441927623],\n",
       "       [-0.7291464879479665],\n",
       "       [-0.31730782207086067],\n",
       "       [-0.5313779888645135],\n",
       "       [-0.4342112529946778],\n",
       "       [1.4435005426609735],\n",
       "       [-0.8658498784203844],\n",
       "       [-0.790506185176954],\n",
       "       [0.05269301843616745],\n",
       "       [-0.4696403187974054],\n",
       "       [-0.7049090151489878],\n",
       "       [-0.8852670385481028],\n",
       "       [-0.8901248279237856],\n",
       "       [-0.5647866834283398],\n",
       "       [-0.12188069119075319],\n",
       "       [-0.13532195052999377],\n",
       "       [-0.5161708225596578],\n",
       "       [-0.4793419807243184],\n",
       "       [0.16894360456019708],\n",
       "       [-0.0509889287034568],\n",
       "       [2.2704773645751626],\n",
       "       [-0.7166633750967698],\n",
       "       [-0.5132255207916008],\n",
       "       [-0.5740573173857818],\n",
       "       [0.18118527433056314],\n",
       "       [-0.7804645938391956],\n",
       "       [-0.7585841834704721],\n",
       "       [-0.8270237334856221],\n",
       "       [-0.34852144634394133],\n",
       "       [-0.731657522362325],\n",
       "       [-0.7300705821772722],\n",
       "       [0.3672973047706715],\n",
       "       [-0.12679256645978032]], dtype=object)"
      ]
     },
     "execution_count": 41,
     "metadata": {},
     "output_type": "execute_result"
    }
   ],
   "source": [
    "input_data.astype(Decimal)"
   ]
  },
  {
   "cell_type": "code",
   "execution_count": 408,
   "metadata": {},
   "outputs": [
    {
     "data": {
      "text/plain": [
       "23"
      ]
     },
     "execution_count": 408,
     "metadata": {},
     "output_type": "execute_result"
    }
   ],
   "source": [
    "np.sum(scaled_testing_data.y.values == np.ravel( 1 * (PxC1 == np.inf)))"
   ]
  },
  {
   "cell_type": "code",
   "execution_count": 378,
   "metadata": {},
   "outputs": [
    {
     "ename": "ImportError",
     "evalue": "cannot import name 'bivariate_normal'",
     "output_type": "error",
     "traceback": [
      "\u001b[1;31m---------------------------------------------------------------------------\u001b[0m",
      "\u001b[1;31mImportError\u001b[0m                               Traceback (most recent call last)",
      "\u001b[1;32m<ipython-input-378-f6dac1dd65aa>\u001b[0m in \u001b[0;36m<module>\u001b[1;34m\u001b[0m\n\u001b[0;32m      1\u001b[0m \u001b[1;31m# Sebastian Raschka 04/2014\u001b[0m\u001b[1;33m\u001b[0m\u001b[1;33m\u001b[0m\u001b[1;33m\u001b[0m\u001b[0m\n\u001b[0;32m      2\u001b[0m \u001b[1;33m\u001b[0m\u001b[0m\n\u001b[1;32m----> 3\u001b[1;33m \u001b[1;32mfrom\u001b[0m \u001b[0mmatplotlib\u001b[0m\u001b[1;33m.\u001b[0m\u001b[0mmlab\u001b[0m \u001b[1;32mimport\u001b[0m \u001b[0mbivariate_normal\u001b[0m\u001b[1;33m\u001b[0m\u001b[1;33m\u001b[0m\u001b[0m\n\u001b[0m\u001b[0;32m      4\u001b[0m \u001b[1;32mimport\u001b[0m \u001b[0mnumpy\u001b[0m \u001b[1;32mas\u001b[0m \u001b[0mnp\u001b[0m\u001b[1;33m\u001b[0m\u001b[1;33m\u001b[0m\u001b[0m\n\u001b[0;32m      5\u001b[0m \u001b[1;33m\u001b[0m\u001b[0m\n",
      "\u001b[1;31mImportError\u001b[0m: cannot import name 'bivariate_normal'"
     ]
    }
   ],
   "source": [
    "def test_gauss_pdf():\n",
    "\n",
    "    x = np.array([[0],[0]])\n",
    "    mu  = np.array([[0],[0]])\n",
    "    cov = np.eye(2) \n",
    "\n",
    "    mlab_gauss = bivariate_normal(x,x)\n",
    "    mlab_gauss = float(mlab_gauss[0]) # because mlab returns an np.array\n",
    "    impl_gauss = pdf_multivariate_gauss(x, mu, cov)\n",
    "\n",
    "    print('mlab_gauss:', mlab_gauss)\n",
    "    print('impl_gauss:', impl_gauss)\n",
    "    assert(mlab_gauss == impl_gauss), 'Implementations of the mult. Gaussian return different pdfs'\n",
    "\n",
    "\n",
    "if __name__ == '__main__':\n",
    "    test_gauss_pdf()"
   ]
  },
  {
   "cell_type": "code",
   "execution_count": 410,
   "metadata": {},
   "outputs": [
    {
     "name": "stdout",
     "output_type": "stream",
     "text": [
      "0.15915494309189535\n"
     ]
    }
   ],
   "source": [
    "import numpy as np\n",
    "\n",
    "def pdf_multivariate_gauss(x, mu, cov):\n",
    "    '''\n",
    "    Caculate the multivariate normal density (pdf)\n",
    "\n",
    "    Keyword arguments:\n",
    "        x = numpy array of a \"d x 1\" sample vector\n",
    "        mu = numpy array of a \"d x 1\" mean vector\n",
    "        cov = \"numpy array of a d x d\" covariance matrix\n",
    "    '''\n",
    "    assert(mu.shape[0] > mu.shape[1]), 'mu must be a row vector'\n",
    "    assert(x.shape[0] > x.shape[1]), 'x must be a row vector'\n",
    "    assert(cov.shape[0] == cov.shape[1]), 'covariance matrix must be square'\n",
    "    assert(mu.shape[0] == cov.shape[0]), 'cov_mat and mu_vec must have the same dimensions'\n",
    "    assert(mu.shape[0] == x.shape[0]), 'mu and x must have the same dimensions'\n",
    "    part1 = 1 / ( ((2* np.pi)**(len(mu)/2)) * (np.linalg.det(cov)**(1/2)) )\n",
    "    part2 = (-1/2) * ((x-mu).T.dot(np.linalg.inv(cov))).dot((x-mu))\n",
    "    return float(part1 * np.exp(part2))\n",
    "\n",
    "def test_gauss_pdf():\n",
    "    x = np.array([[0],[0]])\n",
    "    mu  = np.array([[0],[0]])\n",
    "    cov = np.eye(2) \n",
    "\n",
    "    print(pdf_multivariate_gauss(x, mu, cov))\n",
    "\n",
    "    # prints 0.15915494309189535\n",
    "\n",
    "if __name__ == '__main__':\n",
    "    test_gauss_pdf()"
   ]
  },
  {
   "cell_type": "code",
   "execution_count": 34,
   "metadata": {},
   "outputs": [],
   "source": [
    "input_mean0 = stats['means'][0]\n",
    "d = len(input_mean0)\n",
    "input_mean0 = input_mean0.reshape((d,1))\n",
    "input_cov0 = stats['covariances'][0]\n",
    "\n",
    "input_data = scaled_testing_data.loc[:,scaled_testing_data.columns != 'y'].iloc[i,:]\n",
    "input_data = np.array(input_data).reshape((len(input_data),1))"
   ]
  },
  {
   "cell_type": "code",
   "execution_count": 35,
   "metadata": {},
   "outputs": [],
   "source": [
    "part1 = -0.5 * np.matmul(np.matmul((input_data - input_mean0).T, np.linalg.pinv(input_cov0)), (input_data - input_mean0))"
   ]
  },
  {
   "cell_type": "code",
   "execution_count": 36,
   "metadata": {},
   "outputs": [],
   "source": [
    "part2 = -(d/2)*np.log(2*np.pi)"
   ]
  },
  {
   "cell_type": "code",
   "execution_count": 37,
   "metadata": {},
   "outputs": [
    {
     "name": "stderr",
     "output_type": "stream",
     "text": [
      "C:\\Users\\ramon\\Anaconda3\\envs\\rstudio\\lib\\site-packages\\ipykernel_launcher.py:1: RuntimeWarning: divide by zero encountered in log\n",
      "  \"\"\"Entry point for launching an IPython kernel.\n"
     ]
    }
   ],
   "source": [
    "part3 = -(1/2)*np.log(np.linalg.det(input_cov0))"
   ]
  },
  {
   "cell_type": "code",
   "execution_count": 38,
   "metadata": {},
   "outputs": [
    {
     "data": {
      "text/plain": [
       "inf"
      ]
     },
     "execution_count": 38,
     "metadata": {},
     "output_type": "execute_result"
    }
   ],
   "source": [
    "part3"
   ]
  },
  {
   "cell_type": "code",
   "execution_count": 54,
   "metadata": {},
   "outputs": [
    {
     "ename": "TypeError",
     "evalue": "No loop matching the specified signature and casting was found for ufunc svd_n_s",
     "output_type": "error",
     "traceback": [
      "\u001b[1;31m---------------------------------------------------------------------------\u001b[0m",
      "\u001b[1;31mTypeError\u001b[0m                                 Traceback (most recent call last)",
      "\u001b[1;32m<ipython-input-54-9dd5d93c179f>\u001b[0m in \u001b[0;36m<module>\u001b[1;34m\u001b[0m\n\u001b[1;32m----> 1\u001b[1;33m \u001b[0mnp\u001b[0m\u001b[1;33m.\u001b[0m\u001b[0mlinalg\u001b[0m\u001b[1;33m.\u001b[0m\u001b[0mpinv\u001b[0m\u001b[1;33m(\u001b[0m\u001b[0minput_cov0\u001b[0m\u001b[1;33m.\u001b[0m\u001b[0mastype\u001b[0m\u001b[1;33m(\u001b[0m\u001b[0mDecimal\u001b[0m\u001b[1;33m)\u001b[0m\u001b[1;33m)\u001b[0m\u001b[1;33m\u001b[0m\u001b[1;33m\u001b[0m\u001b[0m\n\u001b[0m",
      "\u001b[1;32m<__array_function__ internals>\u001b[0m in \u001b[0;36mpinv\u001b[1;34m(*args, **kwargs)\u001b[0m\n",
      "\u001b[1;32m~\\Anaconda3\\envs\\rstudio\\lib\\site-packages\\numpy\\linalg\\linalg.py\u001b[0m in \u001b[0;36mpinv\u001b[1;34m(a, rcond, hermitian)\u001b[0m\n\u001b[0;32m   1959\u001b[0m         \u001b[1;32mreturn\u001b[0m \u001b[0mwrap\u001b[0m\u001b[1;33m(\u001b[0m\u001b[0mres\u001b[0m\u001b[1;33m)\u001b[0m\u001b[1;33m\u001b[0m\u001b[1;33m\u001b[0m\u001b[0m\n\u001b[0;32m   1960\u001b[0m     \u001b[0ma\u001b[0m \u001b[1;33m=\u001b[0m \u001b[0ma\u001b[0m\u001b[1;33m.\u001b[0m\u001b[0mconjugate\u001b[0m\u001b[1;33m(\u001b[0m\u001b[1;33m)\u001b[0m\u001b[1;33m\u001b[0m\u001b[1;33m\u001b[0m\u001b[0m\n\u001b[1;32m-> 1961\u001b[1;33m     \u001b[0mu\u001b[0m\u001b[1;33m,\u001b[0m \u001b[0ms\u001b[0m\u001b[1;33m,\u001b[0m \u001b[0mvt\u001b[0m \u001b[1;33m=\u001b[0m \u001b[0msvd\u001b[0m\u001b[1;33m(\u001b[0m\u001b[0ma\u001b[0m\u001b[1;33m,\u001b[0m \u001b[0mfull_matrices\u001b[0m\u001b[1;33m=\u001b[0m\u001b[1;32mFalse\u001b[0m\u001b[1;33m,\u001b[0m \u001b[0mhermitian\u001b[0m\u001b[1;33m=\u001b[0m\u001b[0mhermitian\u001b[0m\u001b[1;33m)\u001b[0m\u001b[1;33m\u001b[0m\u001b[1;33m\u001b[0m\u001b[0m\n\u001b[0m\u001b[0;32m   1962\u001b[0m \u001b[1;33m\u001b[0m\u001b[0m\n\u001b[0;32m   1963\u001b[0m     \u001b[1;31m# discard small singular values\u001b[0m\u001b[1;33m\u001b[0m\u001b[1;33m\u001b[0m\u001b[1;33m\u001b[0m\u001b[0m\n",
      "\u001b[1;32m<__array_function__ internals>\u001b[0m in \u001b[0;36msvd\u001b[1;34m(*args, **kwargs)\u001b[0m\n",
      "\u001b[1;32m~\\Anaconda3\\envs\\rstudio\\lib\\site-packages\\numpy\\linalg\\linalg.py\u001b[0m in \u001b[0;36msvd\u001b[1;34m(a, full_matrices, compute_uv, hermitian)\u001b[0m\n\u001b[0;32m   1624\u001b[0m \u001b[1;33m\u001b[0m\u001b[0m\n\u001b[0;32m   1625\u001b[0m         \u001b[0msignature\u001b[0m \u001b[1;33m=\u001b[0m \u001b[1;34m'D->DdD'\u001b[0m \u001b[1;32mif\u001b[0m \u001b[0misComplexType\u001b[0m\u001b[1;33m(\u001b[0m\u001b[0mt\u001b[0m\u001b[1;33m)\u001b[0m \u001b[1;32melse\u001b[0m \u001b[1;34m'd->ddd'\u001b[0m\u001b[1;33m\u001b[0m\u001b[1;33m\u001b[0m\u001b[0m\n\u001b[1;32m-> 1626\u001b[1;33m         \u001b[0mu\u001b[0m\u001b[1;33m,\u001b[0m \u001b[0ms\u001b[0m\u001b[1;33m,\u001b[0m \u001b[0mvh\u001b[0m \u001b[1;33m=\u001b[0m \u001b[0mgufunc\u001b[0m\u001b[1;33m(\u001b[0m\u001b[0ma\u001b[0m\u001b[1;33m,\u001b[0m \u001b[0msignature\u001b[0m\u001b[1;33m=\u001b[0m\u001b[0msignature\u001b[0m\u001b[1;33m,\u001b[0m \u001b[0mextobj\u001b[0m\u001b[1;33m=\u001b[0m\u001b[0mextobj\u001b[0m\u001b[1;33m)\u001b[0m\u001b[1;33m\u001b[0m\u001b[1;33m\u001b[0m\u001b[0m\n\u001b[0m\u001b[0;32m   1627\u001b[0m         \u001b[0mu\u001b[0m \u001b[1;33m=\u001b[0m \u001b[0mu\u001b[0m\u001b[1;33m.\u001b[0m\u001b[0mastype\u001b[0m\u001b[1;33m(\u001b[0m\u001b[0mresult_t\u001b[0m\u001b[1;33m,\u001b[0m \u001b[0mcopy\u001b[0m\u001b[1;33m=\u001b[0m\u001b[1;32mFalse\u001b[0m\u001b[1;33m)\u001b[0m\u001b[1;33m\u001b[0m\u001b[1;33m\u001b[0m\u001b[0m\n\u001b[0;32m   1628\u001b[0m         \u001b[0ms\u001b[0m \u001b[1;33m=\u001b[0m \u001b[0ms\u001b[0m\u001b[1;33m.\u001b[0m\u001b[0mastype\u001b[0m\u001b[1;33m(\u001b[0m\u001b[0m_realType\u001b[0m\u001b[1;33m(\u001b[0m\u001b[0mresult_t\u001b[0m\u001b[1;33m)\u001b[0m\u001b[1;33m,\u001b[0m \u001b[0mcopy\u001b[0m\u001b[1;33m=\u001b[0m\u001b[1;32mFalse\u001b[0m\u001b[1;33m)\u001b[0m\u001b[1;33m\u001b[0m\u001b[1;33m\u001b[0m\u001b[0m\n",
      "\u001b[1;31mTypeError\u001b[0m: No loop matching the specified signature and casting was found for ufunc svd_n_s"
     ]
    }
   ],
   "source": [
    "np.linalg.pinv(input_cov0)"
   ]
  },
  {
   "cell_type": "code",
   "execution_count": 28,
   "metadata": {},
   "outputs": [
    {
     "data": {
      "text/plain": [
       "array([[-0.71057798,  0.79495576,  8.96728482, -0.56569116, -2.49319482,\n",
       "        -4.3865808 , -3.44601461, -0.89912093, -2.35240199,  1.28873162,\n",
       "         3.01713749,  3.38539583,  5.86070636,  1.8816496 ,  0.30301496,\n",
       "        -2.61596082,  4.7021629 , -0.88304364,  1.33963426, -2.44332346,\n",
       "        -1.07648551,  0.40734045, -0.40785489, -0.31181561,  0.4654658 ,\n",
       "         6.85894074, -1.00214502, -2.10497766, -0.91417488, -2.20395932,\n",
       "        -0.56286966, -0.54213764,  0.8506328 , -4.29926692, -0.41394771,\n",
       "         2.0194419 ,  1.92336594,  4.59997468, -4.5742968 , -0.23295124,\n",
       "        -1.08712639, -0.99153708,  5.37245755,  2.29716518,  2.4761661 ,\n",
       "         0.12836801, -1.42703255, -5.65397927,  0.87438558,  2.17230551]])"
      ]
     },
     "execution_count": 28,
     "metadata": {},
     "output_type": "execute_result"
    }
   ],
   "source": [
    "np.matmul((input_data - input_mean0), np.linalg.pinv(input_cov0))"
   ]
  },
  {
   "cell_type": "code",
   "execution_count": 425,
   "metadata": {},
   "outputs": [
    {
     "data": {
      "text/plain": [
       "array([[-0.25362363],\n",
       "       [ 0.21654998],\n",
       "       [ 0.07628298],\n",
       "       [-0.91853463],\n",
       "       [-0.40295147],\n",
       "       [-0.37810935],\n",
       "       [-0.45929057],\n",
       "       [ 0.25033068],\n",
       "       [-0.33421329],\n",
       "       [-0.39313982],\n",
       "       [-0.7710659 ],\n",
       "       [-0.54027985],\n",
       "       [ 0.30561125],\n",
       "       [-0.95447432],\n",
       "       [ 0.12086665],\n",
       "       [-0.71384364],\n",
       "       [ 0.44377634],\n",
       "       [-0.40450574],\n",
       "       [-0.72914649],\n",
       "       [-0.31730782],\n",
       "       [-0.53137799],\n",
       "       [-0.43421125],\n",
       "       [ 1.44350054],\n",
       "       [-0.86584988],\n",
       "       [-0.79050619],\n",
       "       [ 0.05269302],\n",
       "       [-0.46964032],\n",
       "       [-0.70490902],\n",
       "       [-0.88526704],\n",
       "       [-0.89012483],\n",
       "       [-0.56478668],\n",
       "       [-0.12188069],\n",
       "       [-0.13532195],\n",
       "       [-0.51617082],\n",
       "       [-0.47934198],\n",
       "       [ 0.1689436 ],\n",
       "       [-0.05098893],\n",
       "       [ 2.27047736],\n",
       "       [-0.71666338],\n",
       "       [-0.51322552],\n",
       "       [-0.57405732],\n",
       "       [ 0.18118527],\n",
       "       [-0.78046459],\n",
       "       [-0.75858418],\n",
       "       [-0.82702373],\n",
       "       [-0.34852145],\n",
       "       [-0.73165752],\n",
       "       [-0.73007058],\n",
       "       [ 0.3672973 ],\n",
       "       [-0.12679257]])"
      ]
     },
     "execution_count": 425,
     "metadata": {},
     "output_type": "execute_result"
    }
   ],
   "source": [
    "input_data"
   ]
  },
  {
   "cell_type": "code",
   "execution_count": 429,
   "metadata": {},
   "outputs": [
    {
     "data": {
      "text/plain": [
       "array([[-0.96959517],\n",
       "       [ 1.37442079],\n",
       "       [-0.02902672],\n",
       "       [-0.62144295],\n",
       "       [-0.46527766],\n",
       "       [-0.27231515],\n",
       "       [-0.25207078],\n",
       "       [-1.35596804],\n",
       "       [-0.0201923 ],\n",
       "       [-0.04578179],\n",
       "       [-0.31954982],\n",
       "       [-0.21126111],\n",
       "       [ 0.4322352 ],\n",
       "       [-0.33971868],\n",
       "       [ 0.85214299],\n",
       "       [-0.68810451],\n",
       "       [ 0.23447079],\n",
       "       [-0.06520601],\n",
       "       [-0.88849322],\n",
       "       [-0.1668873 ],\n",
       "       [ 0.01301903],\n",
       "       [-1.30232449],\n",
       "       [ 3.47927677],\n",
       "       [-1.88654455],\n",
       "       [-1.12685501],\n",
       "       [-0.35093942],\n",
       "       [ 0.1662471 ],\n",
       "       [-0.47136738],\n",
       "       [-0.27758191],\n",
       "       [-0.53232289],\n",
       "       [-0.48671111],\n",
       "       [-0.81473665],\n",
       "       [ 0.11802534],\n",
       "       [-1.28671868],\n",
       "       [-0.11656138],\n",
       "       [ 0.10438442],\n",
       "       [-0.04544689],\n",
       "       [ 4.95475442],\n",
       "       [-0.83138437],\n",
       "       [-0.00530091],\n",
       "       [-0.02541635],\n",
       "       [-0.25866356],\n",
       "       [-0.27020658],\n",
       "       [ 0.17087819],\n",
       "       [-0.80645262],\n",
       "       [-0.35923259],\n",
       "       [-0.1767307 ],\n",
       "       [-0.17040222],\n",
       "       [ 0.17213092],\n",
       "       [-0.75193692]])"
      ]
     },
     "execution_count": 429,
     "metadata": {},
     "output_type": "execute_result"
    }
   ],
   "source": [
    "(input_data - input_mean0).T"
   ]
  },
  {
   "cell_type": "code",
   "execution_count": null,
   "metadata": {},
   "outputs": [],
   "source": []
  },
  {
   "cell_type": "code",
   "execution_count": null,
   "metadata": {},
   "outputs": [],
   "source": []
  },
  {
   "cell_type": "code",
   "execution_count": null,
   "metadata": {},
   "outputs": [],
   "source": []
  },
  {
   "cell_type": "code",
   "execution_count": null,
   "metadata": {},
   "outputs": [],
   "source": []
  },
  {
   "cell_type": "code",
   "execution_count": null,
   "metadata": {},
   "outputs": [],
   "source": []
  },
  {
   "cell_type": "code",
   "execution_count": null,
   "metadata": {},
   "outputs": [],
   "source": []
  },
  {
   "cell_type": "code",
   "execution_count": null,
   "metadata": {},
   "outputs": [],
   "source": []
  },
  {
   "cell_type": "code",
   "execution_count": null,
   "metadata": {},
   "outputs": [],
   "source": []
  },
  {
   "cell_type": "code",
   "execution_count": null,
   "metadata": {},
   "outputs": [],
   "source": []
  },
  {
   "cell_type": "code",
   "execution_count": null,
   "metadata": {},
   "outputs": [],
   "source": []
  },
  {
   "cell_type": "code",
   "execution_count": null,
   "metadata": {},
   "outputs": [],
   "source": []
  },
  {
   "cell_type": "code",
   "execution_count": null,
   "metadata": {},
   "outputs": [],
   "source": []
  },
  {
   "cell_type": "code",
   "execution_count": null,
   "metadata": {},
   "outputs": [],
   "source": []
  },
  {
   "cell_type": "code",
   "execution_count": null,
   "metadata": {},
   "outputs": [],
   "source": []
  },
  {
   "cell_type": "code",
   "execution_count": null,
   "metadata": {},
   "outputs": [],
   "source": []
  },
  {
   "cell_type": "code",
   "execution_count": null,
   "metadata": {},
   "outputs": [],
   "source": []
  },
  {
   "cell_type": "code",
   "execution_count": null,
   "metadata": {},
   "outputs": [],
   "source": []
  },
  {
   "cell_type": "code",
   "execution_count": null,
   "metadata": {},
   "outputs": [],
   "source": []
  },
  {
   "cell_type": "code",
   "execution_count": null,
   "metadata": {},
   "outputs": [],
   "source": []
  },
  {
   "cell_type": "code",
   "execution_count": null,
   "metadata": {},
   "outputs": [],
   "source": []
  },
  {
   "cell_type": "markdown",
   "metadata": {},
   "source": [
    "#### Erro de Validação Cruzada (Leave-One-Out): \n",
    "\n",
    "Para validar os resultados obtidos para o classficador durante o treinamento, os autores utilizam validação cruzada do estilo \"leave-one-out\": para cada observação, treina-se o classificador nas $n-1$ observações restantes e avalia-se o resultado na observação selecionada. O total de erros é considerado o erro de validação cruzada. Desta forma, utiliza-se todo o conjunto de treinamento para treinar e para testar a performance do classificador. \n",
    "\n",
    "Abaixo, o processo de seleção de genes será repetido e o erro de validação será obtido utilizando esta técnica:"
   ]
  },
  {
   "cell_type": "code",
   "execution_count": 330,
   "metadata": {},
   "outputs": [
    {
     "data": {
      "text/plain": [
       "array([[11,  0],\n",
       "       [ 0, 27]], dtype=int64)"
      ]
     },
     "execution_count": 330,
     "metadata": {},
     "output_type": "execute_result"
    }
   ],
   "source": [
    "n = train_df.shape[0]\n",
    "valid_pred = []\n",
    "\n",
    "for i in np.arange(1, n+1):\n",
    "    valid_train_df = train_df[~train_df.index.isin([i])]\n",
    "    valid_test_df = train_df[train_df.index.isin([i])]\n",
    "    \n",
    "    mu1 = valid_train_df[valid_train_df['class']==0].iloc[:,:-1].mean()\n",
    "    sigma1 = valid_train_df[valid_train_df['class']==0].iloc[:,:-1].std()\n",
    "    mu2 = valid_train_df[valid_train_df['class']==1].iloc[:,:-1].mean()\n",
    "    sigma2 = valid_train_df[valid_train_df['class']==1].iloc[:,:-1].std()\n",
    "    Pgc = (mu1 - mu2) / (sigma1 + sigma2)\n",
    "    abs_Pgc = np.abs(Pgc)\n",
    "    \n",
    "    ag = Pgc[selected_genes]\n",
    "    bg = (mu1[selected_genes] + mu2[selected_genes])/2\n",
    "    V = ag * (valid_test_df[selected_genes] - bg) # matriz com os votos de cada gene para cada observação\n",
    "    V1 = np.sum(V>0, axis=1) # soma dos votos para uma classe\n",
    "    V2 = V.shape[1] - V1 # soma dos votos para a outra classe\n",
    "    \n",
    "    pred = 1 * (V1 <= V2)\n",
    "    \n",
    "    valid_pred.append(pred.values[0])\n",
    "\n",
    "confusion_matrix(train_df.iloc[:,-1], valid_pred)"
   ]
  },
  {
   "cell_type": "markdown",
   "metadata": {},
   "source": [
    "A matriz de confusão acima mostra que todas as observações foram classificadas corretamente no conjunto de validação!"
   ]
  },
  {
   "cell_type": "markdown",
   "metadata": {},
   "source": [
    "#### Erro de teste:"
   ]
  },
  {
   "cell_type": "markdown",
   "metadata": {},
   "source": [
    "Agora, o classificador treinado no conjunto de treinamento é avaliado para o conjunto de teste: "
   ]
  },
  {
   "cell_type": "code",
   "execution_count": 254,
   "metadata": {},
   "outputs": [
    {
     "data": {
      "text/plain": [
       "array([[11,  3],\n",
       "       [ 0, 20]], dtype=int64)"
      ]
     },
     "execution_count": 254,
     "metadata": {},
     "output_type": "execute_result"
    }
   ],
   "source": [
    "ag = Pgc[selected_genes]\n",
    "bg = (mu1[selected_genes] + mu2[selected_genes])/2\n",
    "V = ag * (test_df[selected_genes] - bg) # matriz com os votos de cada gene para cada observação\n",
    "V1 = np.sum(V>0, axis=1) # soma dos votos para uma classe\n",
    "V2 = 50 - V1 # soma dos votos para a outra classe\n",
    "pred = 1 * (V1 <= V2)\n",
    "\n",
    "confusion_matrix(test_df.iloc[:,-1], pred)"
   ]
  },
  {
   "cell_type": "markdown",
   "metadata": {},
   "source": [
    "A matriz de confusão acima mostra que, das 34 observações do conjunto de teste, 31 foram classificadas corretamente utilizando a abordagem do artigo. Para a classe 0 (AML), 03 observações foram classificadas erroneamente, enquanto para a classe 1 (ALL) todas foram corretamente classificadas."
   ]
  },
  {
   "cell_type": "markdown",
   "metadata": {},
   "source": [
    "A matriz de confusão acima denota o erro de validação cruzada obtido através da técnica Leave-One-Out. Desta vez, das 38 observações do conjunto de treinamento. "
   ]
  },
  {
   "cell_type": "markdown",
   "metadata": {},
   "source": [
    "### Prediction Strength (PS)"
   ]
  },
  {
   "cell_type": "markdown",
   "metadata": {},
   "source": [
    "Para aumentar a certeza da classificação, o artigo define um índice chamado Prediction Strength (\"Força da Predição\", $PS$) de acordo com a fórmula abaixo:\n",
    "- $PS=(V_{win}-V_{lose})/(V_{win}+V_{lose})$\n",
    "\n",
    "em que $V_{win}$ é o total de votos da cclasse vencedora e $V_{lose}$ é o total de votos da classe perdedora. A medida reflete a margem de vitória. Caso ela seja menor que 0.3, a classe da observação é dada como indefinida. \n",
    "\n",
    "Abaixo é calculada a métrica PS para todas as observações."
   ]
  },
  {
   "cell_type": "code",
   "execution_count": 288,
   "metadata": {},
   "outputs": [
    {
     "data": {
      "text/plain": [
       "26"
      ]
     },
     "execution_count": 288,
     "metadata": {},
     "output_type": "execute_result"
    }
   ],
   "source": [
    "Vwin = pd.concat([V2[pred==1], V1[pred==0]]).sort_index()\n",
    "Vlose = pd.concat([V2[pred==0], V1[pred==1]]).sort_index()\n",
    "PS = (Vwin - Vlose) / (Vwin + Vlose)\n",
    "sum(PS > 0.3)"
   ]
  },
  {
   "cell_type": "markdown",
   "metadata": {},
   "source": [
    "A escolha do threshold de PS como 0.3 feita no artigo faz com que, das 34 observações de treinamento, 26 tenham PS significativo. A escolha do threshold de PS como 0.3 é baseada numa análise anterior que era hospedada no site da organização do autor mas que provavelmente já foi retirado de lá nos últimos 20 anos (não encontrei).\n",
    "\n",
    "Calculando a proporção de acertos para as observações com PS > 0.3:"
   ]
  },
  {
   "cell_type": "code",
   "execution_count": 292,
   "metadata": {},
   "outputs": [
    {
     "data": {
      "text/plain": [
       "array([[ 7,  0],\n",
       "       [ 0, 19]], dtype=int64)"
      ]
     },
     "execution_count": 292,
     "metadata": {},
     "output_type": "execute_result"
    }
   ],
   "source": [
    "confusion_matrix(test_df[PS > 0.3].iloc[:,-1], pred[PS > 0.3])"
   ]
  },
  {
   "cell_type": "markdown",
   "metadata": {},
   "source": [
    "Para as predições com índice de força PS acima de 0.3, todas as observações são classificadas corretamente! "
   ]
  },
  {
   "cell_type": "markdown",
   "metadata": {},
   "source": [
    "## Extra: Classificação por SOMs"
   ]
  },
  {
   "cell_type": "markdown",
   "metadata": {},
   "source": [
    "Após a classificação por votação majoritária, o artigo cita ainda uma classificação utilizando Self-Organizing Maps (SOMs). Para fazer uma clusterização similar à que foi feita no artigo, será utilizado um KNN simples com 2 clusters. A performance primeiro será avaliada no conjunto de treinamento e em seguida no conjunto de teste."
   ]
  },
  {
   "cell_type": "code",
   "execution_count": 273,
   "metadata": {},
   "outputs": [
    {
     "data": {
      "text/plain": [
       "array([[11,  0],\n",
       "       [ 0, 27]], dtype=int64)"
      ]
     },
     "execution_count": 273,
     "metadata": {},
     "output_type": "execute_result"
    }
   ],
   "source": [
    "from sklearn.neighbors import KNeighborsClassifier\n",
    "from sklearn.metrics import confusion_matrix\n",
    "\n",
    "knn = KNeighborsClassifier(n_neighbors=2, metric='euclidean')\n",
    "knn.fit(train_df.iloc[:,:-1], train_df.iloc[:,-1])\n",
    "train_pred = knn.predict(train_df.iloc[:,:-1])\n",
    "confusion_matrix(train_df.iloc[:,-1], train_pred)"
   ]
  },
  {
   "cell_type": "markdown",
   "metadata": {},
   "source": [
    "A matriz de confusão do conjunto de treinamento acima mostra que todas as observações foram classificadas corretamente no conjunto de treinamento.\n",
    "\n",
    "Avaliemos agora a performance no conjunto de teste:"
   ]
  },
  {
   "cell_type": "code",
   "execution_count": 274,
   "metadata": {},
   "outputs": [
    {
     "data": {
      "text/plain": [
       "array([[14,  0],\n",
       "       [ 4, 16]], dtype=int64)"
      ]
     },
     "execution_count": 274,
     "metadata": {},
     "output_type": "execute_result"
    }
   ],
   "source": [
    "test_pred = knn.predict(test_df.iloc[:,:-1])\n",
    "confusion_matrix(test_df.iloc[:,-1], test_pred)"
   ]
  },
  {
   "cell_type": "markdown",
   "metadata": {},
   "source": [
    "Para o conjunto de teste, a classificação acertou 30 das 34 observações."
   ]
  }
 ],
 "metadata": {
  "kernelspec": {
   "display_name": "Python 3",
   "language": "python",
   "name": "python3"
  },
  "language_info": {
   "codemirror_mode": {
    "name": "ipython",
    "version": 3
   },
   "file_extension": ".py",
   "mimetype": "text/x-python",
   "name": "python",
   "nbconvert_exporter": "python",
   "pygments_lexer": "ipython3",
   "version": "3.6.9"
  }
 },
 "nbformat": 4,
 "nbformat_minor": 2
}
