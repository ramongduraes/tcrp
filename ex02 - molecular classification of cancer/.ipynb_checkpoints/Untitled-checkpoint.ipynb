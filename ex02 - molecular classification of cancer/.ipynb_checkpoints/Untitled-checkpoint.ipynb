{
 "cells": [
  {
   "cell_type": "markdown",
   "metadata": {},
   "source": [
    "# Técnicas Clássicas de Reconhecimento de Padrões (2020/01)\n",
    "## Exercício 02 - Classificação da Base de Dados de Leucemia\n",
    "*Reprodução dos Resultados Apresentados por Golub et al 1999*\n",
    "\n",
    "**Aluno: Ramon Gomes Durães de Oliveira (2019720188)**"
   ]
  },
  {
   "cell_type": "markdown",
   "metadata": {},
   "source": [
    "## Pré-processamento de dados "
   ]
  },
  {
   "cell_type": "markdown",
   "metadata": {},
   "source": [
    "### Carregando os Dados"
   ]
  },
  {
   "cell_type": "markdown",
   "metadata": {},
   "source": [
    "Foram utilizados os dados disponibilizados pela plataforma Kaggle. \n",
    "- \"class_df\": contém as classes de cada observação\n",
    "- \"train_df\": contém as observações do conjunto de treinamento \n",
    "- \"test_df\": contém as observações do conjunto de teste\n"
   ]
  },
  {
   "cell_type": "code",
   "execution_count": 247,
   "metadata": {},
   "outputs": [],
   "source": [
    "import numpy as np\n",
    "import pandas as pd\n",
    "import matplotlib.pyplot as plt\n",
    "\n",
    "class_df = pd.read_csv('./data/actual.csv')\n",
    "train_df = pd.read_csv('./data/data_set_ALL_AML_train.csv')\n",
    "test_df = pd.read_csv('./data/data_set_ALL_AML_independent.csv')"
   ]
  },
  {
   "cell_type": "markdown",
   "metadata": {},
   "source": [
    "### Limpando os Dados"
   ]
  },
  {
   "cell_type": "markdown",
   "metadata": {},
   "source": [
    "Nesta seção os dados são limpados, removendo colunas desnecessárias e transpondo os dados. Além disso, a classe de cada observação é extraída do conjunto de dados \"class_df\" e integrada aos dados de treinamento e teste. As classes do conjunto de teste serão utilizadas apenas para avaliação da classificação. Os conjuntos de dados resultantes possuem 38 observações de treinamento e 34 de teste, como no artigo do Golub. Há dados para 7129 genes."
   ]
  },
  {
   "cell_type": "code",
   "execution_count": 248,
   "metadata": {},
   "outputs": [
    {
     "data": {
      "text/html": [
       "<div>\n",
       "<style scoped>\n",
       "    .dataframe tbody tr th:only-of-type {\n",
       "        vertical-align: middle;\n",
       "    }\n",
       "\n",
       "    .dataframe tbody tr th {\n",
       "        vertical-align: top;\n",
       "    }\n",
       "\n",
       "    .dataframe thead th {\n",
       "        text-align: right;\n",
       "    }\n",
       "</style>\n",
       "<table border=\"1\" class=\"dataframe\">\n",
       "  <thead>\n",
       "    <tr style=\"text-align: right;\">\n",
       "      <th></th>\n",
       "      <th>0</th>\n",
       "      <th>1</th>\n",
       "      <th>2</th>\n",
       "      <th>3</th>\n",
       "      <th>4</th>\n",
       "      <th>5</th>\n",
       "      <th>6</th>\n",
       "      <th>7</th>\n",
       "      <th>8</th>\n",
       "      <th>9</th>\n",
       "      <th>...</th>\n",
       "      <th>7120</th>\n",
       "      <th>7121</th>\n",
       "      <th>7122</th>\n",
       "      <th>7123</th>\n",
       "      <th>7124</th>\n",
       "      <th>7125</th>\n",
       "      <th>7126</th>\n",
       "      <th>7127</th>\n",
       "      <th>7128</th>\n",
       "      <th>class</th>\n",
       "    </tr>\n",
       "  </thead>\n",
       "  <tbody>\n",
       "    <tr>\n",
       "      <th>1</th>\n",
       "      <td>-214</td>\n",
       "      <td>-153</td>\n",
       "      <td>-58</td>\n",
       "      <td>88</td>\n",
       "      <td>-295</td>\n",
       "      <td>-558</td>\n",
       "      <td>199</td>\n",
       "      <td>-176</td>\n",
       "      <td>252</td>\n",
       "      <td>206</td>\n",
       "      <td>...</td>\n",
       "      <td>511</td>\n",
       "      <td>-125</td>\n",
       "      <td>389</td>\n",
       "      <td>-37</td>\n",
       "      <td>793</td>\n",
       "      <td>329</td>\n",
       "      <td>36</td>\n",
       "      <td>191</td>\n",
       "      <td>-37</td>\n",
       "      <td>1</td>\n",
       "    </tr>\n",
       "    <tr>\n",
       "      <th>2</th>\n",
       "      <td>-139</td>\n",
       "      <td>-73</td>\n",
       "      <td>-1</td>\n",
       "      <td>283</td>\n",
       "      <td>-264</td>\n",
       "      <td>-400</td>\n",
       "      <td>-330</td>\n",
       "      <td>-168</td>\n",
       "      <td>101</td>\n",
       "      <td>74</td>\n",
       "      <td>...</td>\n",
       "      <td>837</td>\n",
       "      <td>-36</td>\n",
       "      <td>442</td>\n",
       "      <td>-17</td>\n",
       "      <td>782</td>\n",
       "      <td>295</td>\n",
       "      <td>11</td>\n",
       "      <td>76</td>\n",
       "      <td>-14</td>\n",
       "      <td>1</td>\n",
       "    </tr>\n",
       "    <tr>\n",
       "      <th>3</th>\n",
       "      <td>-76</td>\n",
       "      <td>-49</td>\n",
       "      <td>-307</td>\n",
       "      <td>309</td>\n",
       "      <td>-376</td>\n",
       "      <td>-650</td>\n",
       "      <td>33</td>\n",
       "      <td>-367</td>\n",
       "      <td>206</td>\n",
       "      <td>-215</td>\n",
       "      <td>...</td>\n",
       "      <td>1199</td>\n",
       "      <td>33</td>\n",
       "      <td>168</td>\n",
       "      <td>52</td>\n",
       "      <td>1138</td>\n",
       "      <td>777</td>\n",
       "      <td>41</td>\n",
       "      <td>228</td>\n",
       "      <td>-41</td>\n",
       "      <td>1</td>\n",
       "    </tr>\n",
       "    <tr>\n",
       "      <th>4</th>\n",
       "      <td>-135</td>\n",
       "      <td>-114</td>\n",
       "      <td>265</td>\n",
       "      <td>12</td>\n",
       "      <td>-419</td>\n",
       "      <td>-585</td>\n",
       "      <td>158</td>\n",
       "      <td>-253</td>\n",
       "      <td>49</td>\n",
       "      <td>31</td>\n",
       "      <td>...</td>\n",
       "      <td>835</td>\n",
       "      <td>218</td>\n",
       "      <td>174</td>\n",
       "      <td>-110</td>\n",
       "      <td>627</td>\n",
       "      <td>170</td>\n",
       "      <td>-50</td>\n",
       "      <td>126</td>\n",
       "      <td>-91</td>\n",
       "      <td>1</td>\n",
       "    </tr>\n",
       "    <tr>\n",
       "      <th>5</th>\n",
       "      <td>-106</td>\n",
       "      <td>-125</td>\n",
       "      <td>-76</td>\n",
       "      <td>168</td>\n",
       "      <td>-230</td>\n",
       "      <td>-284</td>\n",
       "      <td>4</td>\n",
       "      <td>-122</td>\n",
       "      <td>70</td>\n",
       "      <td>252</td>\n",
       "      <td>...</td>\n",
       "      <td>649</td>\n",
       "      <td>57</td>\n",
       "      <td>504</td>\n",
       "      <td>-26</td>\n",
       "      <td>250</td>\n",
       "      <td>314</td>\n",
       "      <td>14</td>\n",
       "      <td>56</td>\n",
       "      <td>-25</td>\n",
       "      <td>1</td>\n",
       "    </tr>\n",
       "  </tbody>\n",
       "</table>\n",
       "<p>5 rows × 7130 columns</p>\n",
       "</div>"
      ],
      "text/plain": [
       "      0     1     2    3     4     5     6     7    8     9  ...  7120  7121  \\\n",
       "1  -214  -153   -58   88  -295  -558   199  -176  252   206  ...   511  -125   \n",
       "2  -139   -73    -1  283  -264  -400  -330  -168  101    74  ...   837   -36   \n",
       "3   -76   -49  -307  309  -376  -650    33  -367  206  -215  ...  1199    33   \n",
       "4  -135  -114   265   12  -419  -585   158  -253   49    31  ...   835   218   \n",
       "5  -106  -125   -76  168  -230  -284     4  -122   70   252  ...   649    57   \n",
       "\n",
       "  7122  7123  7124 7125 7126 7127 7128 class  \n",
       "1  389   -37   793  329   36  191  -37     1  \n",
       "2  442   -17   782  295   11   76  -14     1  \n",
       "3  168    52  1138  777   41  228  -41     1  \n",
       "4  174  -110   627  170  -50  126  -91     1  \n",
       "5  504   -26   250  314   14   56  -25     1  \n",
       "\n",
       "[5 rows x 7130 columns]"
      ]
     },
     "execution_count": 248,
     "metadata": {},
     "output_type": "execute_result"
    }
   ],
   "source": [
    "valid_columns = [col for col in train_df.columns if \"call\" not in col]\n",
    "train_df = train_df[valid_columns]\n",
    "train_df = train_df.T\n",
    "train_df = train_df.drop(['Gene Description','Gene Accession Number'],axis=0)\n",
    "train_df.index = pd.to_numeric(train_df.index)\n",
    "train_df.sort_index(inplace=True)\n",
    "class_dict = {'AML':0,'ALL':1}\n",
    "train_df['class'] = class_df[:38]['cancer'].replace(class_dict).values\n",
    "train_df.head()"
   ]
  },
  {
   "cell_type": "markdown",
   "metadata": {},
   "source": [
    "Dados de teste:"
   ]
  },
  {
   "cell_type": "code",
   "execution_count": 249,
   "metadata": {
    "scrolled": true
   },
   "outputs": [
    {
     "data": {
      "text/html": [
       "<div>\n",
       "<style scoped>\n",
       "    .dataframe tbody tr th:only-of-type {\n",
       "        vertical-align: middle;\n",
       "    }\n",
       "\n",
       "    .dataframe tbody tr th {\n",
       "        vertical-align: top;\n",
       "    }\n",
       "\n",
       "    .dataframe thead th {\n",
       "        text-align: right;\n",
       "    }\n",
       "</style>\n",
       "<table border=\"1\" class=\"dataframe\">\n",
       "  <thead>\n",
       "    <tr style=\"text-align: right;\">\n",
       "      <th></th>\n",
       "      <th>0</th>\n",
       "      <th>1</th>\n",
       "      <th>2</th>\n",
       "      <th>3</th>\n",
       "      <th>4</th>\n",
       "      <th>5</th>\n",
       "      <th>6</th>\n",
       "      <th>7</th>\n",
       "      <th>8</th>\n",
       "      <th>9</th>\n",
       "      <th>...</th>\n",
       "      <th>7120</th>\n",
       "      <th>7121</th>\n",
       "      <th>7122</th>\n",
       "      <th>7123</th>\n",
       "      <th>7124</th>\n",
       "      <th>7125</th>\n",
       "      <th>7126</th>\n",
       "      <th>7127</th>\n",
       "      <th>7128</th>\n",
       "      <th>class</th>\n",
       "    </tr>\n",
       "  </thead>\n",
       "  <tbody>\n",
       "    <tr>\n",
       "      <th>39</th>\n",
       "      <td>-342</td>\n",
       "      <td>-200</td>\n",
       "      <td>41</td>\n",
       "      <td>328</td>\n",
       "      <td>-224</td>\n",
       "      <td>-427</td>\n",
       "      <td>-656</td>\n",
       "      <td>-292</td>\n",
       "      <td>137</td>\n",
       "      <td>-144</td>\n",
       "      <td>...</td>\n",
       "      <td>1023</td>\n",
       "      <td>67</td>\n",
       "      <td>214</td>\n",
       "      <td>-135</td>\n",
       "      <td>1074</td>\n",
       "      <td>475</td>\n",
       "      <td>48</td>\n",
       "      <td>168</td>\n",
       "      <td>-70</td>\n",
       "      <td>1</td>\n",
       "    </tr>\n",
       "    <tr>\n",
       "      <th>40</th>\n",
       "      <td>-87</td>\n",
       "      <td>-248</td>\n",
       "      <td>262</td>\n",
       "      <td>295</td>\n",
       "      <td>-226</td>\n",
       "      <td>-493</td>\n",
       "      <td>367</td>\n",
       "      <td>-452</td>\n",
       "      <td>194</td>\n",
       "      <td>162</td>\n",
       "      <td>...</td>\n",
       "      <td>529</td>\n",
       "      <td>-295</td>\n",
       "      <td>352</td>\n",
       "      <td>-67</td>\n",
       "      <td>67</td>\n",
       "      <td>263</td>\n",
       "      <td>-33</td>\n",
       "      <td>-33</td>\n",
       "      <td>-21</td>\n",
       "      <td>1</td>\n",
       "    </tr>\n",
       "    <tr>\n",
       "      <th>41</th>\n",
       "      <td>-62</td>\n",
       "      <td>-23</td>\n",
       "      <td>-7</td>\n",
       "      <td>142</td>\n",
       "      <td>-233</td>\n",
       "      <td>-284</td>\n",
       "      <td>-167</td>\n",
       "      <td>-97</td>\n",
       "      <td>-12</td>\n",
       "      <td>-70</td>\n",
       "      <td>...</td>\n",
       "      <td>383</td>\n",
       "      <td>46</td>\n",
       "      <td>104</td>\n",
       "      <td>15</td>\n",
       "      <td>245</td>\n",
       "      <td>164</td>\n",
       "      <td>84</td>\n",
       "      <td>100</td>\n",
       "      <td>-18</td>\n",
       "      <td>1</td>\n",
       "    </tr>\n",
       "    <tr>\n",
       "      <th>42</th>\n",
       "      <td>22</td>\n",
       "      <td>-153</td>\n",
       "      <td>17</td>\n",
       "      <td>276</td>\n",
       "      <td>-211</td>\n",
       "      <td>-250</td>\n",
       "      <td>55</td>\n",
       "      <td>-141</td>\n",
       "      <td>0</td>\n",
       "      <td>500</td>\n",
       "      <td>...</td>\n",
       "      <td>399</td>\n",
       "      <td>16</td>\n",
       "      <td>558</td>\n",
       "      <td>24</td>\n",
       "      <td>893</td>\n",
       "      <td>297</td>\n",
       "      <td>6</td>\n",
       "      <td>1971</td>\n",
       "      <td>-42</td>\n",
       "      <td>1</td>\n",
       "    </tr>\n",
       "    <tr>\n",
       "      <th>43</th>\n",
       "      <td>86</td>\n",
       "      <td>-36</td>\n",
       "      <td>-141</td>\n",
       "      <td>252</td>\n",
       "      <td>-201</td>\n",
       "      <td>-384</td>\n",
       "      <td>-420</td>\n",
       "      <td>-197</td>\n",
       "      <td>-60</td>\n",
       "      <td>-468</td>\n",
       "      <td>...</td>\n",
       "      <td>91</td>\n",
       "      <td>-84</td>\n",
       "      <td>615</td>\n",
       "      <td>-52</td>\n",
       "      <td>1235</td>\n",
       "      <td>9</td>\n",
       "      <td>7</td>\n",
       "      <td>1545</td>\n",
       "      <td>-81</td>\n",
       "      <td>1</td>\n",
       "    </tr>\n",
       "  </tbody>\n",
       "</table>\n",
       "<p>5 rows × 7130 columns</p>\n",
       "</div>"
      ],
      "text/plain": [
       "       0     1     2    3     4     5     6     7    8     9  ...  7120  7121  \\\n",
       "39  -342  -200    41  328  -224  -427  -656  -292  137  -144  ...  1023    67   \n",
       "40   -87  -248   262  295  -226  -493   367  -452  194   162  ...   529  -295   \n",
       "41   -62   -23    -7  142  -233  -284  -167   -97  -12   -70  ...   383    46   \n",
       "42    22  -153    17  276  -211  -250    55  -141    0   500  ...   399    16   \n",
       "43    86   -36  -141  252  -201  -384  -420  -197  -60  -468  ...    91   -84   \n",
       "\n",
       "   7122  7123  7124 7125 7126  7127 7128 class  \n",
       "39  214  -135  1074  475   48   168  -70     1  \n",
       "40  352   -67    67  263  -33   -33  -21     1  \n",
       "41  104    15   245  164   84   100  -18     1  \n",
       "42  558    24   893  297    6  1971  -42     1  \n",
       "43  615   -52  1235    9    7  1545  -81     1  \n",
       "\n",
       "[5 rows x 7130 columns]"
      ]
     },
     "execution_count": 249,
     "metadata": {},
     "output_type": "execute_result"
    }
   ],
   "source": [
    "valid_columns = [col for col in test_df.columns if \"call\" not in col]\n",
    "test_df = test_df[valid_columns]\n",
    "test_df = test_df.T\n",
    "test_df = test_df.drop(['Gene Description','Gene Accession Number'],axis=0)\n",
    "test_df.index = pd.to_numeric(test_df.index)\n",
    "test_df.sort_index(inplace=True)\n",
    "test_df['class'] = class_df[38:]['cancer'].replace(class_dict).values\n",
    "test_df.head()"
   ]
  },
  {
   "cell_type": "markdown",
   "metadata": {},
   "source": [
    "## Seleção e Classificação"
   ]
  },
  {
   "cell_type": "markdown",
   "metadata": {},
   "source": [
    "### Seleção de Genes Relevantes"
   ]
  },
  {
   "cell_type": "markdown",
   "metadata": {},
   "source": [
    "Para selecionar um subconjunto de genes relevantes e efetivos para a classificação, no artigo os autores criam dois genes simbólicos com o grau de expressão máximo para uma das classes e mínimo para a outra. \n",
    "\n",
    "Nos dados utilizados pelo autor, os valores máximos e mínimos correspondiam ao range de 0 a 1. Neste conjunto de dados este não é o caso. Logo, será utilizado o máximo e mínimo amostral do nível de expressão de cada gene."
   ]
  },
  {
   "cell_type": "markdown",
   "metadata": {},
   "source": [
    "No artigo, a correlação de um gene com a classificação desejada é calculada utilizando a fórmula:\n",
    "\n",
    "$P(g,c) = [\\mu_1(g) - \\mu_2(g)]/[\\sigma_1(g)+\\sigma_2(g)]$\n",
    "\n",
    "Na qual:\n",
    "- g é um gene\n",
    "- $\\mu$ é a média amostral\n",
    "- $\\sigma$ é o desvio padrão amostral\n",
    "- os números subscritos ($\\mu_1$,$\\mu_2$) indicam as classes 1 e 2.\n",
    "\n",
    "Aqui, busca-se por valores altos de $|P(g,c)|$. Essa medida será calculada para todos os genes e eles serão ordenados de acordo com seu valor absoluto:"
   ]
  },
  {
   "cell_type": "code",
   "execution_count": 250,
   "metadata": {},
   "outputs": [
    {
     "data": {
      "image/png": "[encoded data removed]",
      "text/plain": [
       "<Figure size 432x288 with 1 Axes>"
      ]
     },
     "metadata": {
      "needs_background": "light"
     },
     "output_type": "display_data"
    }
   ],
   "source": [
    "mu1 = train_df[train_df['class']==0].iloc[:,:-1].mean()\n",
    "sigma1 = train_df[train_df['class']==0].iloc[:,:-1].std()\n",
    "mu2 = train_df[train_df['class']==1].iloc[:,:-1].mean()\n",
    "sigma2 = train_df[train_df['class']==1].iloc[:,:-1].std()\n",
    "Pgc = (mu1 - mu2) / (sigma1 + sigma2)\n",
    "abs_Pgc = np.abs(Pgc)\n",
    "plt.hist(abs_Pgc, bins = 40);"
   ]
  },
  {
   "cell_type": "markdown",
   "metadata": {},
   "source": [
    "O artigo diz que o número de genes selecionado foi de certa forma arbitrário. Eles mantiveram 50 para ter um classificador razoavelmente robusto mas a performance foi semelhante para diversos subconjuntos de genes. Selecionando os 50 genes com maior valor absoluto de $P(g,c)$, estabelece-se um threshold em 0.91. Os genes selecionados foram:"
   ]
  },
  {
   "cell_type": "code",
   "execution_count": 251,
   "metadata": {},
   "outputs": [
    {
     "data": {
      "text/plain": [
       "Index([ 148,  460, 1248, 1305, 1629, 1673, 1744, 1806, 1833, 1881, 2019, 2042,\n",
       "       2110, 2120, 2185, 2241, 2266, 2287, 2347, 2353, 2401, 2440, 2641, 2758,\n",
       "       3055, 3257, 3319, 3846, 4051, 4176, 4195, 4229, 4327, 4534, 4846, 5038,\n",
       "       5500, 5592, 5771, 6199, 6200, 6280, 6372, 6375, 6470, 6538, 6802, 6805,\n",
       "       6854, 6973],\n",
       "      dtype='object')"
      ]
     },
     "execution_count": 251,
     "metadata": {},
     "output_type": "execute_result"
    }
   ],
   "source": [
    "selected_genes = abs_Pgc>.91\n",
    "selected_genes = selected_genes.index[selected_genes.values]\n",
    "selected_genes"
   ]
  },
  {
   "cell_type": "markdown",
   "metadata": {},
   "source": [
    "Nota-se que agora o conjunto de dados tem 38 observações mas apenas 50 genes."
   ]
  },
  {
   "cell_type": "code",
   "execution_count": 252,
   "metadata": {},
   "outputs": [
    {
     "data": {
      "text/plain": [
       "(38, 50)"
      ]
     },
     "execution_count": 252,
     "metadata": {},
     "output_type": "execute_result"
    }
   ],
   "source": [
    "train_df[selected_genes].shape"
   ]
  },
  {
   "cell_type": "markdown",
   "metadata": {},
   "source": [
    "### Classificação por Votação"
   ]
  },
  {
   "cell_type": "markdown",
   "metadata": {},
   "source": [
    "No artigo, a classificação é feita utilizando apenas o conjunto de dados de treinamento e o subconjunto selecionado de genes. Para cada gene deste subconjunto, parâmetros $(a_g, b_g)$ são definidos de forma que:\n",
    "- $a_g = P(g,c)$ : reflete a correlação enter os níveis de expressão do gene $g$ e a distinção de classes;\n",
    "- $b_g = [\\mu_1(g)+\\mu_2(g)]/2$ : é a média do nível de expressão média entre as classes.\n",
    "\n",
    "Considerando uma nova observação $X$ a ser classificada, $x_g$ é o nível de expressão do gene $g$ na observação. Dessa forma, o voto do gene $g$ é definido por:\n",
    "\n",
    "$v_g=a_g(x_g-b_g)$\n",
    "\n",
    "Com um valor positivo indicando um voto para a classe 1 e um valor negativo indicando um voto para a classe 2. Os totais de votos para cada classe são obtidos somando os votos individuais."
   ]
  },
  {
   "cell_type": "code",
   "execution_count": 254,
   "metadata": {},
   "outputs": [
    {
     "data": {
      "text/plain": [
       "array([[11,  3],\n",
       "       [ 0, 20]], dtype=int64)"
      ]
     },
     "execution_count": 254,
     "metadata": {},
     "output_type": "execute_result"
    }
   ],
   "source": [
    "ag = Pgc[selected_genes]\n",
    "bg = (mu1[selected_genes] + mu2[selected_genes])/2\n",
    "V = ag * (test_df[selected_genes] - bg) # matriz com os votos de cada gene para cada observação\n",
    "V1 = np.sum(V>0, axis=1) # soma dos votos para uma classe\n",
    "V2 = 50 - V1 # soma dos votos para a outra classe\n",
    "pred = 1 * (V1 <= V2)\n",
    "\n",
    "confusion_matrix(test_df.iloc[:,-1], pred)"
   ]
  },
  {
   "cell_type": "markdown",
   "metadata": {},
   "source": [
    "A matriz de confusão acima mostra que, das 34 observações do conjunto de teste, 31 foram classificadas corretamente utilizando a abordagem do artigo. Para a classe 0 (AML), 03 observações foram classificadas erroneamente, enquanto para a classe 1 (ALL) todas foram corretamente classificadas."
   ]
  },
  {
   "cell_type": "markdown",
   "metadata": {},
   "source": [
    "**Validação Cruzada (Leave-One-Out Cross-Validation)**: Para validar os resultados obtidos para o classficador durante o treinamento, os autores utilizam validação cruzada do estilo \"leave-one-out\": para cada observação, treina-se o classificador nas $n-1$ observações restantes e avalia-se o resultado na observação selecionada. O total de erros é considerado o erro de validação cruzada. Desta forma, utiliza-se todo o conjunto de treinamento para treinar e para testar a performance do classificador. \n",
    "\n",
    "Abaixo, o processo de seleção de genes e obtenção do erro de treinamento será repetido utilizando esta técnica:"
   ]
  },
  {
   "cell_type": "code",
   "execution_count": 298,
   "metadata": {},
   "outputs": [
    {
     "data": {
      "text/plain": [
       "array([1, 2, 3, 4, 5, 6, 7, 8, 9])"
      ]
     },
     "execution_count": 298,
     "metadata": {},
     "output_type": "execute_result"
    }
   ],
   "source": [
    "np.arange(1,10)"
   ]
  },
  {
   "cell_type": "code",
   "execution_count": 295,
   "metadata": {},
   "outputs": [
    {
     "data": {
      "text/plain": [
       "38"
      ]
     },
     "execution_count": 295,
     "metadata": {},
     "output_type": "execute_result"
    }
   ],
   "source": [
    "n = train_df.shape[0]\n",
    "\n",
    "for i in np.arange(1, n+1)"
   ]
  },
  {
   "cell_type": "code",
   "execution_count": null,
   "metadata": {},
   "outputs": [],
   "source": [
    "mu1 = train_df[train_df['class']==0].iloc[:,:-1].mean()\n",
    "sigma1 = train_df[train_df['class']==0].iloc[:,:-1].std()\n",
    "mu2 = train_df[train_df['class']==1].iloc[:,:-1].mean()\n",
    "sigma2 = train_df[train_df['class']==1].iloc[:,:-1].std()\n",
    "Pgc = (mu1 - mu2) / (sigma1 + sigma2)\n",
    "abs_Pgc = np.abs(Pgc)\n",
    "plt.hist(abs_Pgc, bins = 40);\n",
    "\n",
    "\n",
    "ag = Pgc[selected_genes]\n",
    "bg = (mu1[selected_genes] + mu2[selected_genes])/2\n",
    "V = ag * (test_df[selected_genes] - bg) # matriz com os votos de cada gene para cada observação\n",
    "V1 = np.sum(V>0, axis=1) # soma dos votos para uma classe\n",
    "V2 = 50 - V1 # soma dos votos para a outra classe\n",
    "pred = 1 * (V1 <= V2)\n",
    "\n",
    "confusion_matrix(test_df.iloc[:,-1], pred)"
   ]
  },
  {
   "cell_type": "markdown",
   "metadata": {},
   "source": [
    "### Prediction Strength (PS)"
   ]
  },
  {
   "cell_type": "markdown",
   "metadata": {},
   "source": [
    "Para aumentar a certeza da classificação, o artigo define um índice chamado Prediction Strength (\"Força da Predição\", $PS$) de acordo com a fórmula abaixo:\n",
    "- $PS=(V_{win}-V_{lose})/(V_{win}+V_{lose})$\n",
    "\n",
    "em que $V_{win}$ é o total de votos da cclasse vencedora e $V_{lose}$ é o total de votos da classe perdedora. A medida reflete a margem de vitória. Caso ela seja menor que 0.3, a classe da observação é dada como indefinida. \n",
    "\n",
    "Abaixo é calculada a métrica PS para todas as observações."
   ]
  },
  {
   "cell_type": "code",
   "execution_count": 288,
   "metadata": {},
   "outputs": [
    {
     "data": {
      "text/plain": [
       "26"
      ]
     },
     "execution_count": 288,
     "metadata": {},
     "output_type": "execute_result"
    }
   ],
   "source": [
    "Vwin = pd.concat([V2[pred==1], V1[pred==0]]).sort_index()\n",
    "Vlose = pd.concat([V2[pred==0], V1[pred==1]]).sort_index()\n",
    "PS = (Vwin - Vlose) / (Vwin + Vlose)\n",
    "sum(PS > 0.3)"
   ]
  },
  {
   "cell_type": "markdown",
   "metadata": {},
   "source": [
    "A escolha do threshold de PS como 0.3 feita no artigo faz com que, das 34 observações de treinamento, 26 tenham PS significativo. A escolha do threshold de PS como 0.3 é baseada numa análise anterior que era hospedada no site da organização do autor mas que provavelmente já foi retirado de lá nos últimos 20 anos (não encontrei).\n",
    "\n",
    "Calculando a proporção de acertos para as observações com PS > 0.3:"
   ]
  },
  {
   "cell_type": "code",
   "execution_count": 292,
   "metadata": {},
   "outputs": [
    {
     "data": {
      "text/plain": [
       "array([[ 7,  0],\n",
       "       [ 0, 19]], dtype=int64)"
      ]
     },
     "execution_count": 292,
     "metadata": {},
     "output_type": "execute_result"
    }
   ],
   "source": [
    "confusion_matrix(test_df[PS > 0.3].iloc[:,-1], pred[PS > 0.3])"
   ]
  },
  {
   "cell_type": "markdown",
   "metadata": {},
   "source": [
    "Para as predições com índice de força PS acima de 0.3, todas as observações são classificadas corretamente! "
   ]
  },
  {
   "cell_type": "markdown",
   "metadata": {},
   "source": [
    "## Extra: Classificação por SOMs (Self-Organizing Maps)"
   ]
  },
  {
   "cell_type": "markdown",
   "metadata": {},
   "source": [
    "Para fazer uma clusterização similar à que foi feita no artigo, será utilizado um KNN simples com 2 clusters. A performance primeiro será avaliada no conjunto de treinamento e em seguida no conjunto de teste."
   ]
  },
  {
   "cell_type": "code",
   "execution_count": 273,
   "metadata": {},
   "outputs": [
    {
     "data": {
      "text/plain": [
       "array([[11,  0],\n",
       "       [ 0, 27]], dtype=int64)"
      ]
     },
     "execution_count": 273,
     "metadata": {},
     "output_type": "execute_result"
    }
   ],
   "source": [
    "from sklearn.neighbors import KNeighborsClassifier\n",
    "from sklearn.metrics import confusion_matrix\n",
    "\n",
    "knn = KNeighborsClassifier(n_neighbors=2, metric='euclidean')\n",
    "knn.fit(train_df.iloc[:,:-1], train_df.iloc[:,-1])\n",
    "train_pred = knn.predict(train_df.iloc[:,:-1])\n",
    "confusion_matrix(train_df.iloc[:,-1], train_pred)"
   ]
  },
  {
   "cell_type": "markdown",
   "metadata": {},
   "source": [
    "A matriz de confusão do conjunto de treinamento acima mostra que todas as observações foram classificadas corretamente no conjunto de treinamento.\n",
    "\n",
    "Avaliemos agora a performance no conjunto de teste:"
   ]
  },
  {
   "cell_type": "code",
   "execution_count": 274,
   "metadata": {},
   "outputs": [
    {
     "data": {
      "text/plain": [
       "array([[14,  0],\n",
       "       [ 4, 16]], dtype=int64)"
      ]
     },
     "execution_count": 274,
     "metadata": {},
     "output_type": "execute_result"
    }
   ],
   "source": [
    "test_pred = knn.predict(test_df.iloc[:,:-1])\n",
    "confusion_matrix(test_df.iloc[:,-1], test_pred)"
   ]
  },
  {
   "cell_type": "markdown",
   "metadata": {},
   "source": [
    "Para o conjunto de teste, a classificação acertou 30 das 34 observações."
   ]
  }
 ],
 "metadata": {
  "kernelspec": {
   "display_name": "Python 3",
   "language": "python",
   "name": "python3"
  },
  "language_info": {
   "codemirror_mode": {
    "name": "ipython",
    "version": 3
   },
   "file_extension": ".py",
   "mimetype": "text/x-python",
   "name": "python",
   "nbconvert_exporter": "python",
   "pygments_lexer": "ipython3",
   "version": "3.6.9"
  }
 },
 "nbformat": 4,
 "nbformat_minor": 2
}
